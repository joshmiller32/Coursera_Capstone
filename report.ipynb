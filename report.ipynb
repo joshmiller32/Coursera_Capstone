{
 "cells": [
  {
   "cell_type": "markdown",
   "metadata": {},
   "source": [
    "# <center>Finding Comparable Neighborhoods in Greater Houston and Greater Dallas</center>"
   ]
  },
  {
   "cell_type": "markdown",
   "metadata": {},
   "source": [
    "<img align=\"center\" width=\"750\" height=\"500\" src=\"./Data/Houston-vs-Dallas-direct-flights-to-India.png\">"
   ]
  },
  {
   "cell_type": "markdown",
   "metadata": {},
   "source": [
    "## Introduction  \n",
    "---------------  \n",
    "\n",
    "The current job market has substantially contracted in the last few months due to the economic decline caused by the novel coronavirus(COVID-19).  Many people have lost their jobs or were already looking to change jobs.  With the job prospects looking thinner by the day, job seekers will start considering relocation to expand their opportunities for employment. The transition of uprooting your family and moving to a new area can only add to the stress of changing jobs. The goal of this analysis is to help locate a neighborhood that is similar to the neighborhood that one is currently living in.  This analysis focuses on those transitioning between the Greater Houston and Greater Dallas markets.  The neighborhoods will be clustered using the *k-means* algorithm based on a variety of features of each neighborhood. The features used for clustering will include types of shops located near the neighborhood, population, median household income, education, and median home value.     "
   ]
  },
  {
   "cell_type": "markdown",
   "metadata": {},
   "source": [
    "## Data  \n",
    "---------------  \n",
    "\n",
    "The data for this analysis was acquired by a variety of means.  Neighborhoods will be defined loosely by the common names of the different zip codes located in the Greater Houston and Greater Dallas areas.  The zip codes for each metropolitan area were scraped off of the https://bestplaces.net website.  In order to make the zip codes more descriptive, I added names for the areas that the zip codes represent. The best places website provided neighborhood names for some of the zip codes.  For the zipcodes that did not have specific neighborhood names attached to them, the zip codes were researched on Google Maps to find appropriate names.  The demographic features of each neighborhood were acquired through the python uszipcode library.  The demographic features included household income, education, population, and home values.  Latitude and longitude for each zipcode was also pulled from the uszipcode library.  The coordinates were used for mapping the locations.  The information for the types of shops located near each neighborhood was pulled from the Foursquare API.  The different types of shops are located at https://developer.foursquare.com/docs/build-with-foursquare/categories/.  The data was split into two dataframes.  One for Dallas and one for Houston.  The final features used for training were:    \n",
    " \n",
    "- Population   \n",
    "- Percentage of Residents with Some High School\n",
    "- Percentage of Residents High School Graduate\n",
    "- Percentage of Residents with an Associate's Degree\n",
    "- Percentage of Residents with a Bachelor's Degree\n",
    "- Percentage of Residents Graduate Degree/ Professional Degrees\n",
    "- Household Median Income\n",
    "- Median Home Value\n",
    "- Different Types of Shops within Zip Code\n",
    "\n"
   ]
  },
  {
   "cell_type": "markdown",
   "metadata": {},
   "source": [
    "## Methodology\n",
    "--------  \n",
    "\n",
    "The ultimate product of this whole analysis was to create a simple app where the user inputs a zip code that is located in Dallas or Houston and the app will provide the user with a group of zip codes in the other city that are similar to the zip code the user inputted.  The thought process for the model was to use the *k-means* algorithm in order to group similiar neighborhoods together based upon the chosen features.  K-means was chosen since it is an unsupervised learning model and we do not have a definitive idea for how these neighborhoods should be clustered.  In other words, there are not labels for this data.  K-means can handle higher levels of dimensions that would be very difficult to visualize on our own.  \n",
    "\n",
    "After acquiring the data, multiple steps were taken to clean the data.  The different education categories were initially just the number of residents that had attained that level of education.  In order to compare this across zip codes, the education categories were converted to percentages of residents that had attained that level of education. The different types of shops for each zip code was originally just the names of categories.  These categories were converted to numerical values using one hot encoding and then converted to percentages.  The percentages represented the frequency of a particular category in relation to the total number of shops in that zip code. \n",
    "\n",
    "Once the data was cleaned and formatted properly.  I looked for null values as well for any extreme outliers.  Box plots were used to compare the different zip codes for each demographic feature.  For the shop categories, the top 10 categories were found to compare the differences between zip codes. The Dallas and Houston zip codes were kept in seperate dataframes.  \n",
    "\n",
    "The model is trained each time the user inputs a zip code for Dallas or Houston.  The user inputted zip code is appended to the other city's dataframe and then the model is trained and the resulting clusters are used to determine the neighborhoods that are similar to the user's neighborhood.  For example, if the user puts in the zip code for Alvin, TX (located in the Greater Houston area), the model will give the user a group of similar neighborhoods in the Dallas Metroplex Area. \n",
    "\n",
    "\n",
    "\n"
   ]
  },
  {
   "cell_type": "markdown",
   "metadata": {},
   "source": [
    "## Results and Discussion  \n",
    "------------  \n",
    "\n",
    "From my local knowledge of the Greater Houston and Greater Dallas areas, the model seems to do good a job of clustering similiar neighborhoods together based upon the provided features.  I believe it would be a good starting point to help locate areas that are similar to the current area one lives in.  With that being said, the model is limited by the chosen features.  A user could value different features than the features that were used for this analyis or a certain feature might be vastly more important than the other features to a user.  The user would probably also want access to other cities as well.  Future iterations of this app could be improved upon by having more features and by letting the user choose the specific features that are important to them as well as have more cities available.    "
   ]
  },
  {
   "cell_type": "markdown",
   "metadata": {},
   "source": [
    "## Conclusion  \n",
    "------------\n",
    "\n",
    "The *kmeans* algorithm does a terrific job of clustering similar neighborhoods together.  Even with the limited number of features, it grouped neighborhoods together that are very similar. Although it is very subjective how a person might consider what constitutes similarity between neighborhoods, this app seems to have captured a general sense of what would make one area similar to another.  "
   ]
  },
  {
   "cell_type": "code",
   "execution_count": null,
   "metadata": {},
   "outputs": [],
   "source": []
  }
 ],
 "metadata": {
  "kernelspec": {
   "display_name": "Python 3",
   "language": "python",
   "name": "python3"
  },
  "language_info": {
   "codemirror_mode": {
    "name": "ipython",
    "version": 3
   },
   "file_extension": ".py",
   "mimetype": "text/x-python",
   "name": "python",
   "nbconvert_exporter": "python",
   "pygments_lexer": "ipython3",
   "version": "3.7.3"
  }
 },
 "nbformat": 4,
 "nbformat_minor": 4
}
