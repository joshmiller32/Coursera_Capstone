{
 "cells": [
  {
   "cell_type": "markdown",
   "metadata": {},
   "source": [
    "# <center>Finding Comparable Neighborhoods in Greater Houston and Greater Dallas</center>"
   ]
  },
  {
   "cell_type": "markdown",
   "metadata": {},
   "source": [
    "<img align=\"center\" width=\"750\" height=\"500\" src=\"./Data/Houston-vs-Dallas-direct-flights-to-India.png\">"
   ]
  },
  {
   "cell_type": "markdown",
   "metadata": {},
   "source": [
    "## Introduction  \n",
    "---------------  \n",
    "\n",
    "The current job market has substantially contracted in the last few months due to the economic decline caused by the novel coronavirus(COVID-19).  Many people have lost their jobs or were already looking to change jobs.  With the job prospects looking thinner by the day, job seekers will start considering relocation to expand their opportunities for employment. The transition of uprooting your family and moving to a new area can only add to the stress of changing jobs. The goal of this analysis is to help locate a neighborhood that is similar to the neighborhood that one is currently living in.  This analysis focuses on those transitioning between the Greater Houston and Greater Dallas markets.  The neighborhoods will be clustered using the *k-means* algorithm based on a variety of features of each neighborhood. The features used for clustering will include types of venues located near the neighborhood, population, median household income, median age of residents, education, median rent, and median home value.     "
   ]
  },
  {
   "cell_type": "markdown",
   "metadata": {},
   "source": [
    "## Data  \n",
    "---------------  \n",
    "\n",
    "The data for this analysis was acquired by a variety of means.  Neighborhoods will be defined loosely by the common names of the different zip codes located in the Greater Houston and Greater Dallas area codes.  The zip codes for each metropolitan area were scraped off of the https://bestplaces.net website.  This website provided neighborhood names for most of the zip codes.  For the zipcodes that did not have specific neighborhood names attached to them, the zip codes were researched on Google to find appropriate names.  The following features of each neighborhood were acquired through the python uszipcode library.\n",
    "- Latitude, Longitude  \n",
    "- Population   \n",
    "- Some High School\n",
    "- High School Graduate\n",
    "- Associates\n",
    "- Bachelors\n",
    "- Graduate Degree/ Professional Degrees\n",
    "- Household Median Income\n",
    "- Median Home Value\n",
    "\n",
    "Lastly, the information for the types of venues located near each neighborhood was pulled from the Foursquare API.  The different types of venues are located at https://developer.foursquare.com/docs/build-with-foursquare/categories/ "
   ]
  },
  {
   "cell_type": "code",
   "execution_count": null,
   "metadata": {},
   "outputs": [],
   "source": []
  }
 ],
 "metadata": {
  "kernelspec": {
   "display_name": "Python 3",
   "language": "python",
   "name": "python3"
  },
  "language_info": {
   "codemirror_mode": {
    "name": "ipython",
    "version": 3
   },
   "file_extension": ".py",
   "mimetype": "text/x-python",
   "name": "python",
   "nbconvert_exporter": "python",
   "pygments_lexer": "ipython3",
   "version": "3.7.3"
  }
 },
 "nbformat": 4,
 "nbformat_minor": 4
}
