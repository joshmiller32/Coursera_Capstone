{
 "cells": [
  {
   "cell_type": "code",
   "execution_count": 1,
   "metadata": {},
   "outputs": [],
   "source": [
    "import pandas as pd\n",
    "pd.set_option('mode.chained_assignment', None)\n",
    "pd.set_option('display.max_columns', None)\n",
    "pd.set_option('display.max_rows', None)"
   ]
  },
  {
   "cell_type": "code",
   "execution_count": 2,
   "metadata": {},
   "outputs": [],
   "source": [
    "dfw_zipcodes = pd.read_csv('./Data/DFW_zip_codes.csv', header = None, names = ['Zip_Code'])\n",
    "houston_zipcodes = pd.read_csv('./Data/Greater_Houston_zip_codes.csv', header = None, names = ['Zip_Code'])"
   ]
  },
  {
   "cell_type": "code",
   "execution_count": 3,
   "metadata": {},
   "outputs": [
    {
     "data": {
      "text/html": [
       "<div>\n",
       "<style scoped>\n",
       "    .dataframe tbody tr th:only-of-type {\n",
       "        vertical-align: middle;\n",
       "    }\n",
       "\n",
       "    .dataframe tbody tr th {\n",
       "        vertical-align: top;\n",
       "    }\n",
       "\n",
       "    .dataframe thead th {\n",
       "        text-align: right;\n",
       "    }\n",
       "</style>\n",
       "<table border=\"1\" class=\"dataframe\">\n",
       "  <thead>\n",
       "    <tr style=\"text-align: right;\">\n",
       "      <th></th>\n",
       "      <th>Zip_Code</th>\n",
       "    </tr>\n",
       "  </thead>\n",
       "  <tbody>\n",
       "    <tr>\n",
       "      <th>0</th>\n",
       "      <td>75001 (Addison)</td>\n",
       "    </tr>\n",
       "    <tr>\n",
       "      <th>1</th>\n",
       "      <td>75002 (Allen)</td>\n",
       "    </tr>\n",
       "    <tr>\n",
       "      <th>2</th>\n",
       "      <td>75006 (Carrollton)</td>\n",
       "    </tr>\n",
       "    <tr>\n",
       "      <th>3</th>\n",
       "      <td>75007 (Carrollton)</td>\n",
       "    </tr>\n",
       "    <tr>\n",
       "      <th>4</th>\n",
       "      <td>75009 (Celina)</td>\n",
       "    </tr>\n",
       "  </tbody>\n",
       "</table>\n",
       "</div>"
      ],
      "text/plain": [
       "             Zip_Code\n",
       "0     75001 (Addison)\n",
       "1       75002 (Allen)\n",
       "2  75006 (Carrollton)\n",
       "3  75007 (Carrollton)\n",
       "4      75009 (Celina)"
      ]
     },
     "execution_count": 3,
     "metadata": {},
     "output_type": "execute_result"
    }
   ],
   "source": [
    "dfw_zipcodes.head()"
   ]
  },
  {
   "cell_type": "code",
   "execution_count": 4,
   "metadata": {},
   "outputs": [
    {
     "data": {
      "text/html": [
       "<div>\n",
       "<style scoped>\n",
       "    .dataframe tbody tr th:only-of-type {\n",
       "        vertical-align: middle;\n",
       "    }\n",
       "\n",
       "    .dataframe tbody tr th {\n",
       "        vertical-align: top;\n",
       "    }\n",
       "\n",
       "    .dataframe thead th {\n",
       "        text-align: right;\n",
       "    }\n",
       "</style>\n",
       "<table border=\"1\" class=\"dataframe\">\n",
       "  <thead>\n",
       "    <tr style=\"text-align: right;\">\n",
       "      <th></th>\n",
       "      <th>Zip_Code</th>\n",
       "    </tr>\n",
       "  </thead>\n",
       "  <tbody>\n",
       "    <tr>\n",
       "      <th>0</th>\n",
       "      <td>77002 (Houston)</td>\n",
       "    </tr>\n",
       "    <tr>\n",
       "      <th>1</th>\n",
       "      <td>77003 (Houston)</td>\n",
       "    </tr>\n",
       "    <tr>\n",
       "      <th>2</th>\n",
       "      <td>77004 (Houston)</td>\n",
       "    </tr>\n",
       "    <tr>\n",
       "      <th>3</th>\n",
       "      <td>77005 (West University Place)</td>\n",
       "    </tr>\n",
       "    <tr>\n",
       "      <th>4</th>\n",
       "      <td>77006 (Houston)</td>\n",
       "    </tr>\n",
       "  </tbody>\n",
       "</table>\n",
       "</div>"
      ],
      "text/plain": [
       "                        Zip_Code\n",
       "0                77002 (Houston)\n",
       "1                77003 (Houston)\n",
       "2                77004 (Houston)\n",
       "3  77005 (West University Place)\n",
       "4                77006 (Houston)"
      ]
     },
     "execution_count": 4,
     "metadata": {},
     "output_type": "execute_result"
    }
   ],
   "source": [
    "houston_zipcodes.head()"
   ]
  },
  {
   "cell_type": "code",
   "execution_count": 5,
   "metadata": {},
   "outputs": [],
   "source": [
    "def clean_zipcodes(zipcode_df):\n",
    "    column_split = zipcode_df['Zip_Code'].str.split(\" \", n = 1, expand = True)\n",
    "    zipcode_df['Zip_Code'] = column_split[0]\n",
    "    zipcode_df['Neighborhood'] = column_split[1]\n",
    "    zipcode_df['Neighborhood'] = zipcode_df['Neighborhood'].str.replace('(', '')\n",
    "    zipcode_df['Neighborhood'] = zipcode_df['Neighborhood'].str.replace(')', '')\n",
    "    return zipcode_df\n"
   ]
  },
  {
   "cell_type": "code",
   "execution_count": 6,
   "metadata": {},
   "outputs": [],
   "source": [
    "dallas_cleaned_zips = clean_zipcodes(dfw_zipcodes)"
   ]
  },
  {
   "cell_type": "code",
   "execution_count": 7,
   "metadata": {},
   "outputs": [
    {
     "data": {
      "text/html": [
       "<div>\n",
       "<style scoped>\n",
       "    .dataframe tbody tr th:only-of-type {\n",
       "        vertical-align: middle;\n",
       "    }\n",
       "\n",
       "    .dataframe tbody tr th {\n",
       "        vertical-align: top;\n",
       "    }\n",
       "\n",
       "    .dataframe thead th {\n",
       "        text-align: right;\n",
       "    }\n",
       "</style>\n",
       "<table border=\"1\" class=\"dataframe\">\n",
       "  <thead>\n",
       "    <tr style=\"text-align: right;\">\n",
       "      <th></th>\n",
       "      <th>Zip_Code</th>\n",
       "      <th>Neighborhood</th>\n",
       "    </tr>\n",
       "  </thead>\n",
       "  <tbody>\n",
       "    <tr>\n",
       "      <th>0</th>\n",
       "      <td>75001</td>\n",
       "      <td>Addison</td>\n",
       "    </tr>\n",
       "    <tr>\n",
       "      <th>1</th>\n",
       "      <td>75002</td>\n",
       "      <td>Allen</td>\n",
       "    </tr>\n",
       "    <tr>\n",
       "      <th>2</th>\n",
       "      <td>75006</td>\n",
       "      <td>Carrollton</td>\n",
       "    </tr>\n",
       "    <tr>\n",
       "      <th>3</th>\n",
       "      <td>75007</td>\n",
       "      <td>Carrollton</td>\n",
       "    </tr>\n",
       "    <tr>\n",
       "      <th>4</th>\n",
       "      <td>75009</td>\n",
       "      <td>Celina</td>\n",
       "    </tr>\n",
       "  </tbody>\n",
       "</table>\n",
       "</div>"
      ],
      "text/plain": [
       "  Zip_Code Neighborhood\n",
       "0    75001      Addison\n",
       "1    75002        Allen\n",
       "2    75006   Carrollton\n",
       "3    75007   Carrollton\n",
       "4    75009       Celina"
      ]
     },
     "execution_count": 7,
     "metadata": {},
     "output_type": "execute_result"
    }
   ],
   "source": [
    "dallas_cleaned_zips.head()"
   ]
  },
  {
   "cell_type": "code",
   "execution_count": 8,
   "metadata": {},
   "outputs": [
    {
     "name": "stdout",
     "output_type": "stream",
     "text": [
      "Dallas                   True\n",
      "Fort Worth               True\n",
      "Arlington                True\n",
      "Irving                   True\n",
      "Plano                    True\n",
      "Denton                   True\n",
      "Garland                  True\n",
      "Grand Prairie            True\n",
      "Weatherford              True\n",
      "McKinney                 True\n",
      "Lewisville               True\n",
      "Mesquite                 True\n",
      "Richardson               True\n",
      "Carrollton               True\n",
      "Waxahachie               True\n",
      "Hurst                    True\n",
      "Rockwall                 True\n",
      "Duncanville              True\n",
      "Terrell                  True\n",
      "University Park          True\n",
      "Allen                    True\n",
      "Flower Mound             True\n",
      "Granbury                 True\n",
      "Bedford                  True\n",
      "Cleburne                 True\n",
      "Rowlett                  True\n",
      "North Richland Hills     True\n",
      "Frisco                   True\n",
      "Greenville               True\n",
      "Euless                   True\n",
      "Lancaster                True\n",
      "Azle                    False\n",
      "Trophy Club             False\n",
      "Glen Rose               False\n",
      "Krum                    False\n",
      "Nemo                    False\n",
      "Haltom City             False\n",
      "Pilot Point             False\n",
      "Wilmer                  False\n",
      "Little Elm              False\n",
      "Avalon                  False\n",
      "Aledo                   False\n",
      "Rosser                  False\n",
      "Celeste                 False\n",
      "Seagoville              False\n",
      "Midlothian              False\n",
      "Balch Springs           False\n",
      "Ferris                  False\n",
      "DeSoto                  False\n",
      "Benbrook                False\n",
      "Sanger                  False\n",
      "Pecan Acres             False\n",
      "Maypearl                False\n",
      "Southlake               False\n",
      "Commerce                False\n",
      "Sachse                  False\n",
      "Caddo Mills             False\n",
      "Alvord                  False\n",
      "Grandview               False\n",
      "Prosper                 False\n",
      "Kennedale               False\n",
      "Colleyville             False\n",
      "Italy                   False\n",
      "Rainbow                 False\n",
      "Lavon                   False\n",
      "Anna                    False\n",
      "Wolfe City              False\n",
      "Cresson                 False\n",
      "Joshua                  False\n",
      "Mansfield               False\n",
      "Alvarado                False\n",
      "Quinlan                 False\n",
      "Keller                  False\n",
      "Lantana                 False\n",
      "Milford                 False\n",
      "Cedar Hill              False\n",
      "Kemp                    False\n",
      "Decatur                 False\n",
      "Celina                  False\n",
      "Ponder                  False\n",
      "Mabank                  False\n",
      "Crowley                 False\n",
      "Aubrey                  False\n",
      "Josephine               False\n",
      "Princeton               False\n",
      "Murphy                  False\n",
      "The Colony              False\n",
      "Richland Hills          False\n",
      "Bardwell                False\n",
      "Farmersville            False\n",
      "Melissa                 False\n",
      "Poolville               False\n",
      "Rio Vista               False\n",
      "Nevada                  False\n",
      "Blue Ridge              False\n",
      "Kaufman                 False\n",
      "Coppell                 False\n",
      "Lillian                 False\n",
      "Farmers Branch          False\n",
      "Paradise                False\n",
      "Addison                 False\n",
      "Godley                  False\n",
      "Watauga                 False\n",
      "Fate                    False\n",
      "Springtown              False\n",
      "Sunnyvale               False\n",
      "Hutchins                False\n",
      "Burleson                False\n",
      "Forreston               False\n",
      "Millsap                 False\n",
      "Ennis                   False\n",
      "Wylie                   False\n",
      "Chico                   False\n",
      "Crandall                False\n",
      "Lipan                   False\n",
      "Keene                   False\n",
      "Grapevine               False\n",
      "Rhome                   False\n",
      "Venus                   False\n",
      "Bridgeport              False\n",
      "Campbell                False\n",
      "Forney                  False\n",
      "Royse City              False\n",
      "Lone Oak                False\n",
      "Tolar                   False\n",
      "Lake Dallas             False\n",
      "Glenn Heights           False\n",
      "Ut Sw Medical Center    False\n",
      "Whitt                   False\n",
      "Scurry                  False\n",
      "Boyd                    False\n",
      "Palmer                  False\n",
      "Name: Neighborhood, dtype: bool\n"
     ]
    }
   ],
   "source": [
    "print(dallas_cleaned_zips['Neighborhood'].value_counts() > 1)"
   ]
  },
  {
   "cell_type": "code",
   "execution_count": 9,
   "metadata": {},
   "outputs": [
    {
     "name": "stdout",
     "output_type": "stream",
     "text": [
      "    Zip_Code Neighborhood\n",
      "89     75201       Dallas\n",
      "90     75202       Dallas\n",
      "91     75203       Dallas\n",
      "92     75204       Dallas\n",
      "94     75206       Dallas\n",
      "95     75207       Dallas\n",
      "96     75208       Dallas\n",
      "97     75209       Dallas\n",
      "98     75210       Dallas\n",
      "99     75211       Dallas\n",
      "100    75212       Dallas\n",
      "101    75214       Dallas\n",
      "102    75215       Dallas\n",
      "103    75216       Dallas\n",
      "104    75217       Dallas\n",
      "105    75218       Dallas\n",
      "106    75219       Dallas\n",
      "107    75220       Dallas\n",
      "108    75223       Dallas\n",
      "109    75224       Dallas\n",
      "111    75226       Dallas\n",
      "112    75227       Dallas\n",
      "113    75228       Dallas\n",
      "114    75229       Dallas\n",
      "115    75230       Dallas\n",
      "116    75231       Dallas\n",
      "117    75232       Dallas\n",
      "118    75233       Dallas\n",
      "120    75235       Dallas\n",
      "121    75236       Dallas\n",
      "122    75237       Dallas\n",
      "123    75238       Dallas\n",
      "124    75240       Dallas\n",
      "125    75241       Dallas\n",
      "126    75243       Dallas\n",
      "127    75244       Dallas\n",
      "128    75246       Dallas\n",
      "129    75247       Dallas\n",
      "130    75248       Dallas\n",
      "131    75249       Dallas\n",
      "132    75251       Dallas\n",
      "133    75252       Dallas\n",
      "134    75253       Dallas\n",
      "135    75254       Dallas\n",
      "136    75270       Dallas\n",
      "137    75287       Dallas\n"
     ]
    }
   ],
   "source": [
    "print(dallas_cleaned_zips[dallas_cleaned_zips['Neighborhood'] == 'Dallas'])"
   ]
  },
  {
   "cell_type": "code",
   "execution_count": 10,
   "metadata": {},
   "outputs": [],
   "source": [
    "dallas_names = ['Downtown Dallas', 'Historic District - Dallas', 'Cadillac Heights - Dallas', '(City Place, Uptown) - Dallas', 'Lower Greenville - Dallas', 'West_of_Downtown - Dallas', 'Bishop Arts - Dallas', '(Bluffview, Greenway Parks) - Dallas', \n",
    "        'South Dallas - Cotton Bowl Area', 'Cockrell Hill - Dallas', 'West Dallas', 'Northeast Dallas, Lakewood', '(Cedars, South Blvd, Park Row, Wheatley Place) - Dallas', 'Cedar Crest - Dallas', 'Pleasant Grove - Dallas', \n",
    "        '(Casa Linda, Lockwood) - Dallas', '(Turtle Creek, Oaklawn) - Dallas', 'Northwest Dallas', '(Owenwood, Dolphin Heights) - Dallas', '(Wynnewood, Elmwood, Five Mile Creek) - Dallas', 'Deep Ellum - Dallas',\n",
    "        '(Riverway Estates, Bruton Terrace) - Dallas', '(Casa View, Eastwood Hills) - Dallas', 'Loryland - Dallas', 'North Dallas', 'Vickory Meadow - Dallas', 'Wolf Creek - Dallas', 'Westwood Park - Dallas', 'Love Field - Dallas',\n",
    "        'West Redbird - Dallas', 'East Redbird - Dallas', '(Lake Highlands, Highland Meadows) - Dallas', 'Galleria - Dallas', 'South Dallas', '(Woodbridge, Forest Meadow, Northwood Heights) - Dallas', 'North Branch - Dallas',\n",
    "        'Old East - Dallas', 'Brook Hollow - Dallas', 'Far North Dallas', 'Cedar Ridge - Dallas', 'Park Central - Dallas', 'Preston Villa - Dallas', 'Kleberg - Dallas', 'White Rock Creek - Dallas', 'Downtown - Dallas', 'Rollingwood - Dallas']"
   ]
  },
  {
   "cell_type": "code",
   "execution_count": 11,
   "metadata": {},
   "outputs": [
    {
     "name": "stdout",
     "output_type": "stream",
     "text": [
      "    Zip_Code Neighborhood\n",
      "171    76031     Cleburne\n",
      "172    76033     Cleburne\n"
     ]
    }
   ],
   "source": [
    "print(dallas_cleaned_zips[dallas_cleaned_zips['Neighborhood'] == 'Cleburne'])"
   ]
  },
  {
   "cell_type": "code",
   "execution_count": 12,
   "metadata": {},
   "outputs": [],
   "source": [
    "cleburne_names = ['East Cleburne', 'West Cleburne']"
   ]
  },
  {
   "cell_type": "code",
   "execution_count": 13,
   "metadata": {},
   "outputs": [
    {
     "name": "stdout",
     "output_type": "stream",
     "text": [
      "    Zip_Code Neighborhood\n",
      "185    76052   Fort Worth\n",
      "209    76102   Fort Worth\n",
      "210    76103   Fort Worth\n",
      "211    76104   Fort Worth\n",
      "212    76105   Fort Worth\n",
      "213    76106   Fort Worth\n",
      "214    76107   Fort Worth\n",
      "215    76108   Fort Worth\n",
      "216    76109   Fort Worth\n",
      "217    76110   Fort Worth\n",
      "218    76111   Fort Worth\n",
      "219    76112   Fort Worth\n",
      "220    76114   Fort Worth\n",
      "221    76115   Fort Worth\n",
      "222    76116   Fort Worth\n",
      "225    76119   Fort Worth\n",
      "226    76120   Fort Worth\n",
      "227    76123   Fort Worth\n",
      "229    76127   Fort Worth\n",
      "230    76129   Fort Worth\n",
      "231    76131   Fort Worth\n",
      "232    76132   Fort Worth\n",
      "233    76133   Fort Worth\n",
      "234    76134   Fort Worth\n",
      "235    76135   Fort Worth\n",
      "236    76137   Fort Worth\n",
      "237    76140   Fort Worth\n",
      "239    76155   Fort Worth\n",
      "240    76164   Fort Worth\n",
      "241    76177   Fort Worth\n",
      "242    76179   Fort Worth\n",
      "255    76244   Fort Worth\n",
      "256    76247   Fort Worth\n"
     ]
    }
   ],
   "source": [
    "print(dallas_cleaned_zips[dallas_cleaned_zips['Neighborhood'] == 'Fort Worth'])"
   ]
  },
  {
   "cell_type": "code",
   "execution_count": 14,
   "metadata": {},
   "outputs": [],
   "source": [
    "fort_worth_names = ['Haslet - Fort Worth', '(Greenway, Upper Westside, Eastchase) - Fort Worth', 'Meadowbrook - Fort Worth', '(Hillside, Morningside) - Fort Worth', 'Burchill - Fort Worth',\n",
    "                   '(Diamond Hill, Far Greater Northside Historical, North Hill Manor) - Fort Worth', '(Arlington Heights, Monticello, West Beyer) - Fort Worth', 'White Settlement - Fort Worth',\n",
    "                   'TCU Area - Fort Worth', '(Shaw Clarke, Ryan Place, Fairmont-Southside Historic District) - Fort Worth', '(Sylvan Heights West, Scenic Bluff) - Fort Worth', '(Ryanwood, Handley) - Fort Worth',\n",
    "                   '(Fair Oaks, Calloway Park) - Fort Worth', '(Southland Terrace, North Greenbriar) - Fort Worth', '(Western Hills, Ridglea Hills) - Fort Worth', '(Echo Heights, Glencrest) - Fort Worth', \n",
    "                   '(John T White, Cobblestone) - Fort Worth', '(Wedgewood, Stone Meadow) - Fort Worth', 'NAS-JRB - Fort Worth', 'TCU', '(North Brook, Fossil Creek Estates) - Fort Worth',\n",
    "                   '(Quail Ridge Estates, Huken Bend Estates) - Fort Worth', 'Wedgewood - Fort Worth', '(Willow Creek, South Greenbriar, Highland Hills) - Fort Worth', '(Lakeland, Lake Worth, Lakeside) - Fort Worth',\n",
    "                   '(Summerfields, Summerbrook) - Fort Worth', '(Quail Run, Hamlet, Garden Acres) - Fort Worth', 'DFW Airport Area - Fort Worth', '(Northside, Marine Park) - Fort Worth',\n",
    "                   '(Texas Motor Speedway, Elizabethtown) - Fort Worth', '(Saginaw, Eagle Mountain) - Fort Worth', 'Keller - Fort Worth', 'Justin - Fort Worth']"
   ]
  },
  {
   "cell_type": "code",
   "execution_count": 15,
   "metadata": {},
   "outputs": [
    {
     "name": "stdout",
     "output_type": "stream",
     "text": [
      "    Zip_Code Neighborhood\n",
      "152    76001    Arlington\n",
      "153    76002    Arlington\n",
      "154    76006    Arlington\n",
      "157    76010    Arlington\n",
      "158    76011    Arlington\n",
      "159    76012    Arlington\n",
      "160    76013    Arlington\n",
      "161    76014    Arlington\n",
      "162    76015    Arlington\n",
      "163    76016    Arlington\n",
      "164    76017    Arlington\n",
      "165    76018    Arlington\n"
     ]
    }
   ],
   "source": [
    "print(dallas_cleaned_zips[dallas_cleaned_zips['Neighborhood'] == 'Arlington'])"
   ]
  },
  {
   "cell_type": "code",
   "execution_count": 16,
   "metadata": {},
   "outputs": [],
   "source": [
    "arlington_names = ['Southwest Arlington', 'Southeast Arlington', 'River Legacy Parks - Arlington', 'East Arlington', '(Six Flags, Stadium Areas) - Arlington', 'Northwest Arlington', \n",
    "                  'West Arlington', 'Vandergriff Park Area - Arlington', 'Parks Mall Area - Arlington', 'Lake Arlington Area - Arlington', 'Green Oaks - Arlington', 'Fish Creek - Arlington']"
   ]
  },
  {
   "cell_type": "code",
   "execution_count": 17,
   "metadata": {},
   "outputs": [
    {
     "name": "stdout",
     "output_type": "stream",
     "text": [
      "   Zip_Code Neighborhood\n",
      "16    75038       Irving\n",
      "17    75039       Irving\n",
      "30    75060       Irving\n",
      "31    75061       Irving\n",
      "32    75062       Irving\n",
      "33    75063       Irving\n"
     ]
    }
   ],
   "source": [
    "print(dallas_cleaned_zips[dallas_cleaned_zips['Neighborhood'] == 'Irving'])"
   ]
  },
  {
   "cell_type": "code",
   "execution_count": 18,
   "metadata": {},
   "outputs": [],
   "source": [
    "irving_names = ['(Cottonwood Valley, Arts District) - Irving', 'Las Colinas - Irving', '(Lamar Brown, Irving Lake, Trinity Oaks) - Irving', '(Garden Oaks, Plymoth Park) - Irving',\n",
    "               '(Hillcrest Oaks, Arts District, Woodhaven) - Irving', '(Hackberry Creek, Valley Ranch) - Irving']"
   ]
  },
  {
   "cell_type": "code",
   "execution_count": 19,
   "metadata": {},
   "outputs": [
    {
     "name": "stdout",
     "output_type": "stream",
     "text": [
      "    Zip_Code Neighborhood\n",
      "245    76201       Denton\n",
      "246    76205       Denton\n",
      "247    76207       Denton\n",
      "248    76208       Denton\n",
      "249    76209       Denton\n",
      "250    76210       Denton\n"
     ]
    }
   ],
   "source": [
    "print(dallas_cleaned_zips[dallas_cleaned_zips['Neighborhood'] == 'Denton'])"
   ]
  },
  {
   "cell_type": "code",
   "execution_count": 20,
   "metadata": {},
   "outputs": [],
   "source": [
    "denton_names = ['West Denton', 'South Denton', '(North Lakes Park, Denton Airport) - Denton', 'Far East Denton', 'Northeast Denton', 'Corinth - Denton']"
   ]
  },
  {
   "cell_type": "code",
   "execution_count": 21,
   "metadata": {},
   "outputs": [
    {
     "name": "stdout",
     "output_type": "stream",
     "text": [
      "   Zip_Code Neighborhood\n",
      "9     75023        Plano\n",
      "10    75024        Plano\n",
      "11    75025        Plano\n",
      "40    75074        Plano\n",
      "41    75075        Plano\n",
      "50    75093        Plano\n"
     ]
    }
   ],
   "source": [
    "print(dallas_cleaned_zips[dallas_cleaned_zips['Neighborhood'] == 'Plano'])"
   ]
  },
  {
   "cell_type": "code",
   "execution_count": 22,
   "metadata": {},
   "outputs": [],
   "source": [
    "plano_names = ['(Quail Creek, Cross Bend) - Plano', '(Deerfield West, Normandy Estates) - Plano', '(Ridgeview, Russel Creek Park) - Plano', '(Timber Brook, Oak Point, Plano Park) - Plano',\n",
    "              '(Greenway Court, Pitman Creek) - Plano', '(Willow Bend, Westworth Estates) - Plano']"
   ]
  },
  {
   "cell_type": "code",
   "execution_count": 23,
   "metadata": {},
   "outputs": [
    {
     "name": "stdout",
     "output_type": "stream",
     "text": [
      "   Zip_Code Neighborhood\n",
      "18    75040      Garland\n",
      "19    75041      Garland\n",
      "20    75042      Garland\n",
      "21    75043      Garland\n",
      "22    75044      Garland\n"
     ]
    }
   ],
   "source": [
    "print(dallas_cleaned_zips[dallas_cleaned_zips['Neighborhood'] == 'Garland'])"
   ]
  },
  {
   "cell_type": "code",
   "execution_count": 24,
   "metadata": {},
   "outputs": [],
   "source": [
    "garland_names = ['Northeast Garland', '(Almeta, Bonite, Bella Vista) - Garland', '(Forest Crest, Park Groves, Creekside Village) - Garland', 'Bass Park Area - Garland', \n",
    "                '(Firewheel Hills, Picket Place, Camelot) - Garland']"
   ]
  },
  {
   "cell_type": "code",
   "execution_count": 25,
   "metadata": {},
   "outputs": [
    {
     "name": "stdout",
     "output_type": "stream",
     "text": [
      "    Zip_Code Neighborhood\n",
      "203    76085  Weatherford\n",
      "204    76086  Weatherford\n",
      "205    76087  Weatherford\n",
      "206    76088  Weatherford\n"
     ]
    }
   ],
   "source": [
    "print(dallas_cleaned_zips[dallas_cleaned_zips['Neighborhood'] == 'Weatherford'])"
   ]
  },
  {
   "cell_type": "code",
   "execution_count": 26,
   "metadata": {},
   "outputs": [],
   "source": [
    "weatherford_names = ['Far North - Weatherford', 'Southeast Weatherford', 'South and East Weatherford', 'Northwest Weatherford']"
   ]
  },
  {
   "cell_type": "code",
   "execution_count": 27,
   "metadata": {},
   "outputs": [
    {
     "name": "stdout",
     "output_type": "stream",
     "text": [
      "   Zip_Code   Neighborhood\n",
      "24    75050  Grand Prairie\n",
      "25    75051  Grand Prairie\n",
      "26    75052  Grand Prairie\n",
      "27    75054  Grand Prairie\n"
     ]
    }
   ],
   "source": [
    "print(dallas_cleaned_zips[dallas_cleaned_zips['Neighborhood'] == 'Grand Prairie'])"
   ]
  },
  {
   "cell_type": "code",
   "execution_count": 28,
   "metadata": {},
   "outputs": [],
   "source": [
    "grand_prairie_names = ['North Grand Prairie', 'South Grand Prairie', 'Southwest Grand Prairie', 'Estes Park Area - Grand Prairie']"
   ]
  },
  {
   "cell_type": "code",
   "execution_count": 29,
   "metadata": {},
   "outputs": [
    {
     "name": "stdout",
     "output_type": "stream",
     "text": [
      "   Zip_Code Neighborhood\n",
      "70    75149     Mesquite\n",
      "71    75150     Mesquite\n",
      "86    75181     Mesquite\n"
     ]
    }
   ],
   "source": [
    "print(dallas_cleaned_zips[dallas_cleaned_zips['Neighborhood'] == 'Mesquite'])"
   ]
  },
  {
   "cell_type": "code",
   "execution_count": 30,
   "metadata": {},
   "outputs": [],
   "source": [
    "mesquite_names = ['Central to West Mesquite', 'Northwest Mesquite', 'Southeast Mesquite']"
   ]
  },
  {
   "cell_type": "code",
   "execution_count": 31,
   "metadata": {},
   "outputs": [
    {
     "name": "stdout",
     "output_type": "stream",
     "text": [
      "   Zip_Code Neighborhood\n",
      "44    75080   Richardson\n",
      "45    75081   Richardson\n",
      "46    75082   Richardson\n"
     ]
    }
   ],
   "source": [
    "print(dallas_cleaned_zips[dallas_cleaned_zips['Neighborhood'] == 'Richardson'])"
   ]
  },
  {
   "cell_type": "code",
   "execution_count": 32,
   "metadata": {},
   "outputs": [],
   "source": [
    "richardson_names = ['Northwest Richardson', 'East Richardson', 'Northeast Richardson']"
   ]
  },
  {
   "cell_type": "code",
   "execution_count": 33,
   "metadata": {},
   "outputs": [
    {
     "name": "stdout",
     "output_type": "stream",
     "text": [
      "   Zip_Code Neighborhood\n",
      "29    75057   Lewisville\n",
      "35    75067   Lewisville\n",
      "42    75077   Lewisville\n"
     ]
    }
   ],
   "source": [
    "print(dallas_cleaned_zips[dallas_cleaned_zips['Neighborhood'] == 'Lewisville'])"
   ]
  },
  {
   "cell_type": "code",
   "execution_count": 34,
   "metadata": {},
   "outputs": [],
   "source": [
    "lewisville_names = ['Northeast to Southeast Lewisville', 'West to Southwest Lewisville', 'Northwest Lewisville']"
   ]
  },
  {
   "cell_type": "code",
   "execution_count": 35,
   "metadata": {},
   "outputs": [
    {
     "name": "stdout",
     "output_type": "stream",
     "text": [
      "   Zip_Code Neighborhood\n",
      "37    75069     McKinney\n",
      "38    75070     McKinney\n",
      "39    75071     McKinney\n"
     ]
    }
   ],
   "source": [
    "print(dallas_cleaned_zips[dallas_cleaned_zips['Neighborhood'] == 'McKinney'])"
   ]
  },
  {
   "cell_type": "code",
   "execution_count": 36,
   "metadata": {},
   "outputs": [],
   "source": [
    "mckinney_names = ['Southeast McKinney', 'Southwest McKinney', 'North McKinney']"
   ]
  },
  {
   "cell_type": "code",
   "execution_count": 37,
   "metadata": {},
   "outputs": [
    {
     "name": "stdout",
     "output_type": "stream",
     "text": [
      "  Zip_Code Neighborhood\n",
      "2    75006   Carrollton\n",
      "3    75007   Carrollton\n",
      "5    75010   Carrollton\n"
     ]
    }
   ],
   "source": [
    "print(dallas_cleaned_zips[dallas_cleaned_zips['Neighborhood'] == 'Carrollton'])"
   ]
  },
  {
   "cell_type": "code",
   "execution_count": 38,
   "metadata": {},
   "outputs": [],
   "source": [
    "carrollton_names = ['Central Carrolton', 'North Carrollton', 'Far North Carrollton']"
   ]
  },
  {
   "cell_type": "code",
   "execution_count": 39,
   "metadata": {},
   "outputs": [
    {
     "name": "stdout",
     "output_type": "stream",
     "text": [
      "   Zip_Code Neighborhood\n",
      "48    75088      Rowlett\n",
      "49    75089      Rowlett\n"
     ]
    }
   ],
   "source": [
    "print(dallas_cleaned_zips[dallas_cleaned_zips['Neighborhood'] == 'Rowlett'])"
   ]
  },
  {
   "cell_type": "code",
   "execution_count": 40,
   "metadata": {},
   "outputs": [],
   "source": [
    "rowlett_names = ['South Rowlett', 'North Rowlett']"
   ]
  },
  {
   "cell_type": "code",
   "execution_count": 41,
   "metadata": {},
   "outputs": [
    {
     "name": "stdout",
     "output_type": "stream",
     "text": [
      "   Zip_Code Neighborhood\n",
      "77    75160      Terrell\n",
      "78    75161      Terrell\n"
     ]
    }
   ],
   "source": [
    "print(dallas_cleaned_zips[dallas_cleaned_zips['Neighborhood'] == 'Terrell'])"
   ]
  },
  {
   "cell_type": "code",
   "execution_count": 42,
   "metadata": {},
   "outputs": [],
   "source": [
    "terrell_names = ['West Terrell', 'East Terrell']"
   ]
  },
  {
   "cell_type": "code",
   "execution_count": 43,
   "metadata": {},
   "outputs": [
    {
     "name": "stdout",
     "output_type": "stream",
     "text": [
      "   Zip_Code Neighborhood\n",
      "62    75134    Lancaster\n",
      "68    75146    Lancaster\n"
     ]
    }
   ],
   "source": [
    "print(dallas_cleaned_zips[dallas_cleaned_zips['Neighborhood'] == 'Lancaster'])"
   ]
  },
  {
   "cell_type": "code",
   "execution_count": 44,
   "metadata": {},
   "outputs": [],
   "source": [
    "lancaster_names = ['North Lancaster', 'South Lancaster']"
   ]
  },
  {
   "cell_type": "code",
   "execution_count": 45,
   "metadata": {},
   "outputs": [
    {
     "name": "stdout",
     "output_type": "stream",
     "text": [
      "   Zip_Code Neighborhood\n",
      "57    75116  Duncanville\n",
      "64    75137  Duncanville\n"
     ]
    }
   ],
   "source": [
    "print(dallas_cleaned_zips[dallas_cleaned_zips['Neighborhood'] == 'Duncanville'])"
   ]
  },
  {
   "cell_type": "code",
   "execution_count": 46,
   "metadata": {},
   "outputs": [],
   "source": [
    "duncanville_names = ['North Duncanville', 'South Duncanville']"
   ]
  },
  {
   "cell_type": "code",
   "execution_count": 47,
   "metadata": {},
   "outputs": [
    {
     "name": "stdout",
     "output_type": "stream",
     "text": [
      "    Zip_Code          Neighborhood\n",
      "243    76180  North Richland Hills\n",
      "244    76182  North Richland Hills\n"
     ]
    }
   ],
   "source": [
    "print(dallas_cleaned_zips[dallas_cleaned_zips['Neighborhood'] == 'North Richland Hills'])"
   ]
  },
  {
   "cell_type": "code",
   "execution_count": 48,
   "metadata": {},
   "outputs": [],
   "source": [
    "north_richland_hills_names = ['North Richland Hills - Fort Worth', 'Smithfield - Fort Worth']"
   ]
  },
  {
   "cell_type": "code",
   "execution_count": 49,
   "metadata": {},
   "outputs": [
    {
     "name": "stdout",
     "output_type": "stream",
     "text": [
      "  Zip_Code Neighborhood\n",
      "1    75002        Allen\n",
      "6    75013        Allen\n"
     ]
    }
   ],
   "source": [
    "print(dallas_cleaned_zips[dallas_cleaned_zips['Neighborhood'] == 'Allen'])"
   ]
  },
  {
   "cell_type": "code",
   "execution_count": 50,
   "metadata": {},
   "outputs": [],
   "source": [
    "allen_names = ['West Allen', 'East Allen']"
   ]
  },
  {
   "cell_type": "code",
   "execution_count": 51,
   "metadata": {},
   "outputs": [
    {
     "name": "stdout",
     "output_type": "stream",
     "text": [
      "    Zip_Code Neighborhood\n",
      "167    76021      Bedford\n",
      "168    76022      Bedford\n"
     ]
    }
   ],
   "source": [
    "print(dallas_cleaned_zips[dallas_cleaned_zips['Neighborhood'] == 'Bedford'])"
   ]
  },
  {
   "cell_type": "code",
   "execution_count": 52,
   "metadata": {},
   "outputs": [],
   "source": [
    "bedford_names = ['North Bedford', 'South Bedford']"
   ]
  },
  {
   "cell_type": "code",
   "execution_count": 53,
   "metadata": {},
   "outputs": [
    {
     "name": "stdout",
     "output_type": "stream",
     "text": [
      "   Zip_Code Neighborhood\n",
      "80    75165   Waxahachie\n",
      "82    75167   Waxahachie\n"
     ]
    }
   ],
   "source": [
    "print(dallas_cleaned_zips[dallas_cleaned_zips['Neighborhood'] == 'Waxahachie'])"
   ]
  },
  {
   "cell_type": "code",
   "execution_count": 54,
   "metadata": {},
   "outputs": [],
   "source": [
    "waxahachie_names = ['East Waxahachie', 'West Waxahachie']"
   ]
  },
  {
   "cell_type": "code",
   "execution_count": 55,
   "metadata": {},
   "outputs": [
    {
     "name": "stdout",
     "output_type": "stream",
     "text": [
      "    Zip_Code Neighborhood\n",
      "181    76048     Granbury\n",
      "182    76049     Granbury\n"
     ]
    }
   ],
   "source": [
    "print(dallas_cleaned_zips[dallas_cleaned_zips['Neighborhood'] == 'Granbury'])"
   ]
  },
  {
   "cell_type": "code",
   "execution_count": 56,
   "metadata": {},
   "outputs": [],
   "source": [
    "granbury_names = ['West Granbury', 'East Granbury']"
   ]
  },
  {
   "cell_type": "code",
   "execution_count": 57,
   "metadata": {},
   "outputs": [
    {
     "name": "stdout",
     "output_type": "stream",
     "text": [
      "    Zip_Code Neighborhood\n",
      "139    75401   Greenville\n",
      "140    75402   Greenville\n"
     ]
    }
   ],
   "source": [
    "print(dallas_cleaned_zips[dallas_cleaned_zips['Neighborhood'] == 'Greenville'])"
   ]
  },
  {
   "cell_type": "code",
   "execution_count": 58,
   "metadata": {},
   "outputs": [],
   "source": [
    "greenville_names = ['North Greenville', 'South Greenville']"
   ]
  },
  {
   "cell_type": "code",
   "execution_count": 59,
   "metadata": {},
   "outputs": [
    {
     "name": "stdout",
     "output_type": "stream",
     "text": [
      "    Zip_Code Neighborhood\n",
      "186    76053        Hurst\n",
      "187    76054        Hurst\n"
     ]
    }
   ],
   "source": [
    "print(dallas_cleaned_zips[dallas_cleaned_zips['Neighborhood'] == 'Hurst'])"
   ]
  },
  {
   "cell_type": "code",
   "execution_count": 60,
   "metadata": {},
   "outputs": [],
   "source": [
    "hurst_names = ['South Hurst', 'North Hurst']"
   ]
  },
  {
   "cell_type": "code",
   "execution_count": 61,
   "metadata": {},
   "outputs": [
    {
     "name": "stdout",
     "output_type": "stream",
     "text": [
      "   Zip_Code  Neighborhood\n",
      "8     75022  Flower Mound\n",
      "12    75028  Flower Mound\n"
     ]
    }
   ],
   "source": [
    "print(dallas_cleaned_zips[dallas_cleaned_zips['Neighborhood'] == 'Flower Mound'])"
   ]
  },
  {
   "cell_type": "code",
   "execution_count": 62,
   "metadata": {},
   "outputs": [],
   "source": [
    "flower_mound_names = ['West Flower Mound', 'East Flower Mound']"
   ]
  },
  {
   "cell_type": "code",
   "execution_count": 63,
   "metadata": {},
   "outputs": [
    {
     "name": "stdout",
     "output_type": "stream",
     "text": [
      "   Zip_Code Neighborhood\n",
      "14    75034       Frisco\n",
      "15    75035       Frisco\n"
     ]
    }
   ],
   "source": [
    "print(dallas_cleaned_zips[dallas_cleaned_zips['Neighborhood'] == 'Frisco'])"
   ]
  },
  {
   "cell_type": "code",
   "execution_count": 64,
   "metadata": {},
   "outputs": [],
   "source": [
    "frisco_names = ['West Frisco', 'East Frisco']"
   ]
  },
  {
   "cell_type": "code",
   "execution_count": 65,
   "metadata": {},
   "outputs": [
    {
     "name": "stdout",
     "output_type": "stream",
     "text": [
      "    Zip_Code     Neighborhood\n",
      "93     75205  University Park\n",
      "110    75225  University Park\n"
     ]
    }
   ],
   "source": [
    "print(dallas_cleaned_zips[dallas_cleaned_zips['Neighborhood'] == 'University Park'])\n"
   ]
  },
  {
   "cell_type": "code",
   "execution_count": 66,
   "metadata": {},
   "outputs": [],
   "source": [
    "university_park_names = ['(Park Cities, Highland Park) - Dallas', 'University Park']"
   ]
  },
  {
   "cell_type": "code",
   "execution_count": 67,
   "metadata": {},
   "outputs": [
    {
     "name": "stdout",
     "output_type": "stream",
     "text": [
      "   Zip_Code Neighborhood\n",
      "13    75032     Rockwall\n",
      "47    75087     Rockwall\n"
     ]
    }
   ],
   "source": [
    "print(dallas_cleaned_zips[dallas_cleaned_zips['Neighborhood'] == 'Rockwall'])"
   ]
  },
  {
   "cell_type": "code",
   "execution_count": 68,
   "metadata": {},
   "outputs": [],
   "source": [
    "rockwall_names = ['South Rockwall', 'North Rockwall' ]"
   ]
  },
  {
   "cell_type": "code",
   "execution_count": 69,
   "metadata": {},
   "outputs": [
    {
     "name": "stdout",
     "output_type": "stream",
     "text": [
      "    Zip_Code Neighborhood\n",
      "176    76039       Euless\n",
      "177    76040       Euless\n"
     ]
    }
   ],
   "source": [
    "print(dallas_cleaned_zips[dallas_cleaned_zips['Neighborhood'] == 'Euless'])"
   ]
  },
  {
   "cell_type": "code",
   "execution_count": 70,
   "metadata": {},
   "outputs": [],
   "source": [
    "euless_names = ['North Euless', 'South Euless']"
   ]
  },
  {
   "cell_type": "code",
   "execution_count": 71,
   "metadata": {},
   "outputs": [],
   "source": [
    "names_lists = [dallas_names, cleburne_names, fort_worth_names, arlington_names, irving_names, denton_names, plano_names, garland_names, weatherford_names, grand_prairie_names,\n",
    "              mesquite_names, richardson_names, lewisville_names, mckinney_names, carrollton_names, rowlett_names, terrell_names, lancaster_names, duncanville_names,\n",
    "              north_richland_hills_names, allen_names, bedford_names, waxahachie_names, granbury_names, greenville_names, hurst_names, flower_mound_names, frisco_names,\n",
    "              university_park_names, rockwall_names, euless_names]\n",
    "\n",
    "cities = ['Dallas', 'Cleburne', 'Fort Worth', 'Arlington', 'Irving', 'Denton', 'Plano', 'Garland', 'Weatherford', 'Grand Prairie', 'Mesquite', 'Richardson', 'Lewisville',\n",
    "         'McKinney', 'Carrollton', 'Rowlett', 'Terrell', 'Lancaster', 'Duncanville', 'North Richland Hills', 'Allen', 'Bedford', 'Waxahachie', 'Granbury', 'Greenville',\n",
    "         'Hurst', 'Flower Mound', 'Frisco', 'University Park', 'Rockwall', 'Euless']\n"
   ]
  },
  {
   "cell_type": "code",
   "execution_count": 72,
   "metadata": {},
   "outputs": [],
   "source": [
    "def name_zipcodes(zipcode_df, cities, names_list):\n",
    "    for city, names in zip(cities, names_lists):\n",
    "        no_name = zipcode_df[zipcode_df['Neighborhood'] == city]\n",
    "        no_name['Neighborhood'] = names\n",
    "        zipcode_df.update(no_name)\n",
    "    return zipcode_df\n",
    "    "
   ]
  },
  {
   "cell_type": "code",
   "execution_count": 73,
   "metadata": {},
   "outputs": [],
   "source": [
    "dfw_named_zips = name_zipcodes(dallas_cleaned_zips, cities, names_lists)"
   ]
  },
  {
   "cell_type": "code",
   "execution_count": 74,
   "metadata": {},
   "outputs": [],
   "source": [
    "dfw_nonresidential_zips = ['75390', '75270']\n",
    "dfw_named_zips = dfw_named_zips[~dfw_named_zips['Zip_Code'].isin(dfw_nonresidential_zips)]"
   ]
  },
  {
   "cell_type": "code",
   "execution_count": 75,
   "metadata": {},
   "outputs": [
    {
     "name": "stdout",
     "output_type": "stream",
     "text": [
      "Wedgewood - Fort Worth                                                             False\n",
      "North Bedford                                                                      False\n",
      "Springtown                                                                         False\n",
      "Tolar                                                                              False\n",
      "Godley                                                                             False\n",
      "Addison                                                                            False\n",
      "Paradise                                                                           False\n",
      "Farmers Branch                                                                     False\n",
      "Coppell                                                                            False\n",
      "Kaufman                                                                            False\n",
      "North McKinney                                                                     False\n",
      "(North Brook, Fossil Creek Estates) - Fort Worth                                   False\n",
      "South Grand Prairie                                                                False\n",
      "Farmersville                                                                       False\n",
      "TCU Area - Fort Worth                                                              False\n",
      "Bardwell                                                                           False\n",
      "The Colony                                                                         False\n",
      "Wolf Creek - Dallas                                                                False\n",
      "East Waxahachie                                                                    False\n",
      "Whitt                                                                              False\n",
      "Josephine                                                                          False\n",
      "West Granbury                                                                      False\n",
      "(Quail Creek, Cross Bend) - Plano                                                  False\n",
      "(Park Cities, Highland Park) - Dallas                                              False\n",
      "Hutchins                                                                           False\n",
      "Boyd                                                                               False\n",
      "North Richland Hills - Fort Worth                                                  False\n",
      "West Denton                                                                        False\n",
      "Forreston                                                                          False\n",
      "(Firewheel Hills, Picket Place, Camelot) - Garland                                 False\n",
      "Princeton                                                                          False\n",
      "Lone Oak                                                                           False\n",
      "River Legacy Parks - Arlington                                                     False\n",
      "Lake Arlington Area - Arlington                                                    False\n",
      "North Dallas                                                                       False\n",
      "(Lake Highlands, Highland Meadows) - Dallas                                        False\n",
      "North Euless                                                                       False\n",
      "Lantana                                                                            False\n",
      "Cedar Crest - Dallas                                                               False\n",
      "East Flower Mound                                                                  False\n",
      "Lavon                                                                              False\n",
      "TCU                                                                                False\n",
      "Wolfe City                                                                         False\n",
      "Park Central - Dallas                                                              False\n",
      "West Waxahachie                                                                    False\n",
      "Aledo                                                                              False\n",
      "Maypearl                                                                           False\n",
      "Cresson                                                                            False\n",
      "West Allen                                                                         False\n",
      "(Shaw Clarke, Ryan Place, Fairmont-Southside Historic District) - Fort Worth       False\n",
      "Glenn Heights                                                                      False\n",
      "West Arlington                                                                     False\n",
      "Preston Villa - Dallas                                                             False\n",
      "Crowley                                                                            False\n",
      "Wylie                                                                              False\n",
      "North Carrollton                                                                   False\n",
      "Bridgeport                                                                         False\n",
      "Vandergriff Park Area - Arlington                                                  False\n",
      "Royse City                                                                         False\n",
      "Scurry                                                                             False\n",
      "Kleberg - Dallas                                                                   False\n",
      "(Owenwood, Dolphin Heights) - Dallas                                               False\n",
      "Love Field - Dallas                                                                False\n",
      "(Six Flags, Stadium Areas) - Arlington                                             False\n",
      "South Denton                                                                       False\n",
      "Burleson                                                                           False\n",
      "Far North Dallas                                                                   False\n",
      "Lower Greenville - Dallas                                                          False\n",
      "Balch Springs                                                                      False\n",
      "(Garden Oaks, Plymoth Park) - Irving                                               False\n",
      "Parks Mall Area - Arlington                                                        False\n",
      "Cadillac Heights - Dallas                                                          False\n",
      "Downtown Dallas                                                                    False\n",
      "Far North - Weatherford                                                            False\n",
      "Northeast Richardson                                                               False\n",
      "Decatur                                                                            False\n",
      "Sachse                                                                             False\n",
      "Commerce                                                                           False\n",
      "Northeast Dallas, Lakewood                                                         False\n",
      "Cedar Hill                                                                         False\n",
      "(Greenway Court, Pitman Creek) - Plano                                             False\n",
      "Milford                                                                            False\n",
      "White Rock Creek - Dallas                                                          False\n",
      "Westwood Park - Dallas                                                             False\n",
      "Quinlan                                                                            False\n",
      "Cedar Ridge - Dallas                                                               False\n",
      "Alvarado                                                                           False\n",
      "North Duncanville                                                                  False\n",
      "West Dallas                                                                        False\n",
      "Bass Park Area - Garland                                                           False\n",
      "Green Oaks - Arlington                                                             False\n",
      "DFW Airport Area - Fort Worth                                                      False\n",
      "South Rowlett                                                                      False\n",
      "Haltom City                                                                        False\n",
      "(Greenway, Upper Westside, Eastchase) - Fort Worth                                 False\n",
      "(Western Hills, Ridglea Hills) - Fort Worth                                        False\n",
      "Smithfield - Fort Worth                                                            False\n",
      "North Rockwall                                                                     False\n",
      "Central to West Mesquite                                                           False\n",
      "South Greenville                                                                   False\n",
      "East Cleburne                                                                      False\n",
      "Watauga                                                                            False\n",
      "Wilmer                                                                             False\n",
      "(Lamar Brown, Irving Lake, Trinity Oaks) - Irving                                  False\n",
      "Northwest Richardson                                                               False\n",
      "(Echo Heights, Glencrest) - Fort Worth                                             False\n",
      "North Grand Prairie                                                                False\n",
      "(Quail Ridge Estates, Huken Bend Estates) - Fort Worth                             False\n",
      "Mansfield                                                                          False\n",
      "South and East Weatherford                                                         False\n",
      "Crandall                                                                           False\n",
      "Galleria - Dallas                                                                  False\n",
      "Lake Dallas                                                                        False\n",
      "Ennis                                                                              False\n",
      "West to Southwest Lewisville                                                       False\n",
      "Mabank                                                                             False\n",
      "West Redbird - Dallas                                                              False\n",
      "Northeast to Southeast Lewisville                                                  False\n",
      "NAS-JRB - Fort Worth                                                               False\n",
      "(Wynnewood, Elmwood, Five Mile Creek) - Dallas                                     False\n",
      "East Granbury                                                                      False\n",
      "Southeast McKinney                                                                 False\n",
      "Chico                                                                              False\n",
      "(Arlington Heights, Monticello, West Beyer) - Fort Worth                           False\n",
      "(Fair Oaks, Calloway Park) - Fort Worth                                            False\n",
      "Benbrook                                                                           False\n",
      "Colleyville                                                                        False\n",
      "Alvord                                                                             False\n",
      "(Sylvan Heights West, Scenic Bluff) - Fort Worth                                   False\n",
      "Midlothian                                                                         False\n",
      "(Willow Bend, Westworth Estates) - Plano                                           False\n",
      "(John T White, Cobblestone) - Fort Worth                                           False\n",
      "Celeste                                                                            False\n",
      "White Settlement - Fort Worth                                                      False\n",
      "(City Place, Uptown) - Dallas                                                      False\n",
      "Central Carrolton                                                                  False\n",
      "Kennedale                                                                          False\n",
      "(Summerfields, Summerbrook) - Fort Worth                                           False\n",
      "Lillian                                                                            False\n",
      "Caddo Mills                                                                        False\n",
      "Ferris                                                                             False\n",
      "North Rowlett                                                                      False\n",
      "Forney                                                                             False\n",
      "(Diamond Hill, Far Greater Northside Historical, North Hill Manor) - Fort Worth    False\n",
      "Poolville                                                                          False\n",
      "(Willow Creek, South Greenbriar, Highland Hills) - Fort Worth                      False\n",
      "Northeast Denton                                                                   False\n",
      "South Dallas - Cotton Bowl Area                                                    False\n",
      "South Duncanville                                                                  False\n",
      "Richland Hills                                                                     False\n",
      "(Turtle Creek, Oaklawn) - Dallas                                                   False\n",
      "Sunnyvale                                                                          False\n",
      "Keller                                                                             False\n",
      "Melissa                                                                            False\n",
      "Campbell                                                                           False\n",
      "Southwest Grand Prairie                                                            False\n",
      "Justin - Fort Worth                                                                False\n",
      "(Woodbridge, Forest Meadow, Northwood Heights) - Dallas                            False\n",
      "Bishop Arts - Dallas                                                               False\n",
      "(Wedgewood, Stone Meadow) - Fort Worth                                             False\n",
      "South Euless                                                                       False\n",
      "West Frisco                                                                        False\n",
      "(Ridgeview, Russel Creek Park) - Plano                                             False\n",
      "East Frisco                                                                        False\n",
      "(Hillside, Morningside) - Fort Worth                                               False\n",
      "Estes Park Area - Grand Prairie                                                    False\n",
      "Las Colinas - Irving                                                               False\n",
      "Northwest Dallas                                                                   False\n",
      "Northwest Lewisville                                                               False\n",
      "Far East Denton                                                                    False\n",
      "Rollingwood - Dallas                                                               False\n",
      "Italy                                                                              False\n",
      "Joshua                                                                             False\n",
      "Palmer                                                                             False\n",
      "East Allen                                                                         False\n",
      "(Hillcrest Oaks, Arts District, Woodhaven) - Irving                                False\n",
      "Keller - Fort Worth                                                                False\n",
      "Rainbow                                                                            False\n",
      "Historic District - Dallas                                                         False\n",
      "Northwest Arlington                                                                False\n",
      "Grandview                                                                          False\n",
      "West Terrell                                                                       False\n",
      "(Almeta, Bonite, Bella Vista) - Garland                                            False\n",
      "(Southland Terrace, North Greenbriar) - Fort Worth                                 False\n",
      "Rio Vista                                                                          False\n",
      "East Terrell                                                                       False\n",
      "Vickory Meadow - Dallas                                                            False\n",
      "North Greenville                                                                   False\n",
      "Corinth - Denton                                                                   False\n",
      "(North Lakes Park, Denton Airport) - Denton                                        False\n",
      "West_of_Downtown - Dallas                                                          False\n",
      "(Lakeland, Lake Worth, Lakeside) - Fort Worth                                      False\n",
      "Azle                                                                               False\n",
      "Grapevine                                                                          False\n",
      "Avalon                                                                             False\n",
      "Glen Rose                                                                          False\n",
      "(Ryanwood, Handley) - Fort Worth                                                   False\n",
      "Blue Ridge                                                                         False\n",
      "East Arlington                                                                     False\n",
      "(Timber Brook, Oak Point, Plano Park) - Plano                                      False\n",
      "West Cleburne                                                                      False\n",
      "(Casa Linda, Lockwood) - Dallas                                                    False\n",
      "Southeast Arlington                                                                False\n",
      "Fate                                                                               False\n",
      "Venus                                                                              False\n",
      "Aubrey                                                                             False\n",
      "Pilot Point                                                                        False\n",
      "Nemo                                                                               False\n",
      "Krum                                                                               False\n",
      "Northeast Garland                                                                  False\n",
      "Burchill - Fort Worth                                                              False\n",
      "Southlake                                                                          False\n",
      "(Texas Motor Speedway, Elizabethtown) - Fort Worth                                 False\n",
      "(Quail Run, Hamlet, Garden Acres) - Fort Worth                                     False\n",
      "Celina                                                                             False\n",
      "(Riverway Estates, Bruton Terrace) - Dallas                                        False\n",
      "Keene                                                                              False\n",
      "Kemp                                                                               False\n",
      "Loryland - Dallas                                                                  False\n",
      "(Deerfield West, Normandy Estates) - Plano                                         False\n",
      "South Rockwall                                                                     False\n",
      "Rhome                                                                              False\n",
      "Fish Creek - Arlington                                                             False\n",
      "Anna                                                                               False\n",
      "Far North Carrollton                                                               False\n",
      "(Forest Crest, Park Groves, Creekside Village) - Garland                           False\n",
      "West Flower Mound                                                                  False\n",
      "Cockrell Hill - Dallas                                                             False\n",
      "Prosper                                                                            False\n",
      "Nevada                                                                             False\n",
      "(Bluffview, Greenway Parks) - Dallas                                               False\n",
      "Southeast Weatherford                                                              False\n",
      "Meadowbrook - Fort Worth                                                           False\n",
      "North Hurst                                                                        False\n",
      "East Redbird - Dallas                                                              False\n",
      "(Saginaw, Eagle Mountain) - Fort Worth                                             False\n",
      "(Casa View, Eastwood Hills) - Dallas                                               False\n",
      "Little Elm                                                                         False\n",
      "South Lancaster                                                                    False\n",
      "(Northside, Marine Park) - Fort Worth                                              False\n",
      "South Hurst                                                                        False\n",
      "Southwest McKinney                                                                 False\n",
      "Lipan                                                                              False\n",
      "(Cottonwood Valley, Arts District) - Irving                                        False\n",
      "Deep Ellum - Dallas                                                                False\n",
      "Northwest Mesquite                                                                 False\n",
      "Pecan Acres                                                                        False\n",
      "Southwest Arlington                                                                False\n",
      "Southeast Mesquite                                                                 False\n",
      "Millsap                                                                            False\n",
      "Pleasant Grove - Dallas                                                            False\n",
      "East Richardson                                                                    False\n",
      "Ponder                                                                             False\n",
      "North Lancaster                                                                    False\n",
      "Haslet - Fort Worth                                                                False\n",
      "Trophy Club                                                                        False\n",
      "(Cedars, South Blvd, Park Row, Wheatley Place) - Dallas                            False\n",
      "South Dallas                                                                       False\n",
      "Sanger                                                                             False\n",
      "Brook Hollow - Dallas                                                              False\n",
      "DeSoto                                                                             False\n",
      "Old East - Dallas                                                                  False\n",
      "North Branch - Dallas                                                              False\n",
      "Rosser                                                                             False\n",
      "Seagoville                                                                         False\n",
      "Northwest Weatherford                                                              False\n",
      "University Park                                                                    False\n",
      "Murphy                                                                             False\n",
      "South Bedford                                                                      False\n",
      "(Hackberry Creek, Valley Ranch) - Irving                                           False\n",
      "Name: Neighborhood, dtype: bool\n"
     ]
    }
   ],
   "source": [
    "print(dfw_named_zips['Neighborhood'].value_counts() > 1)"
   ]
  },
  {
   "cell_type": "code",
   "execution_count": 76,
   "metadata": {},
   "outputs": [],
   "source": [
    "dfw_named_zips.to_csv('./Data/dfw_cleaned_zipcodes.csv', index = False)"
   ]
  },
  {
   "cell_type": "code",
   "execution_count": 77,
   "metadata": {},
   "outputs": [],
   "source": [
    "houston_cleaned_zips = clean_zipcodes(houston_zipcodes)"
   ]
  },
  {
   "cell_type": "code",
   "execution_count": 78,
   "metadata": {},
   "outputs": [
    {
     "data": {
      "text/html": [
       "<div>\n",
       "<style scoped>\n",
       "    .dataframe tbody tr th:only-of-type {\n",
       "        vertical-align: middle;\n",
       "    }\n",
       "\n",
       "    .dataframe tbody tr th {\n",
       "        vertical-align: top;\n",
       "    }\n",
       "\n",
       "    .dataframe thead th {\n",
       "        text-align: right;\n",
       "    }\n",
       "</style>\n",
       "<table border=\"1\" class=\"dataframe\">\n",
       "  <thead>\n",
       "    <tr style=\"text-align: right;\">\n",
       "      <th></th>\n",
       "      <th>Zip_Code</th>\n",
       "      <th>Neighborhood</th>\n",
       "    </tr>\n",
       "  </thead>\n",
       "  <tbody>\n",
       "    <tr>\n",
       "      <th>0</th>\n",
       "      <td>77002</td>\n",
       "      <td>Houston</td>\n",
       "    </tr>\n",
       "    <tr>\n",
       "      <th>1</th>\n",
       "      <td>77003</td>\n",
       "      <td>Houston</td>\n",
       "    </tr>\n",
       "    <tr>\n",
       "      <th>2</th>\n",
       "      <td>77004</td>\n",
       "      <td>Houston</td>\n",
       "    </tr>\n",
       "    <tr>\n",
       "      <th>3</th>\n",
       "      <td>77005</td>\n",
       "      <td>West University Place</td>\n",
       "    </tr>\n",
       "    <tr>\n",
       "      <th>4</th>\n",
       "      <td>77006</td>\n",
       "      <td>Houston</td>\n",
       "    </tr>\n",
       "  </tbody>\n",
       "</table>\n",
       "</div>"
      ],
      "text/plain": [
       "  Zip_Code           Neighborhood\n",
       "0    77002                Houston\n",
       "1    77003                Houston\n",
       "2    77004                Houston\n",
       "3    77005  West University Place\n",
       "4    77006                Houston"
      ]
     },
     "execution_count": 78,
     "metadata": {},
     "output_type": "execute_result"
    }
   ],
   "source": [
    "houston_cleaned_zips.head()"
   ]
  },
  {
   "cell_type": "code",
   "execution_count": 79,
   "metadata": {},
   "outputs": [
    {
     "name": "stdout",
     "output_type": "stream",
     "text": [
      "Houston                   True\n",
      "Conroe                    True\n",
      "Pasadena                  True\n",
      "Spring                    True\n",
      "Katy                      True\n",
      "Richmond                  True\n",
      "The Woodlands             True\n",
      "Sugar Land                True\n",
      "Baytown                   True\n",
      "Galveston                 True\n",
      "Bolivar Peninsula         True\n",
      "Tomball                   True\n",
      "Santa Fe                  True\n",
      "Montgomery                True\n",
      "Magnolia                  True\n",
      "Missouri City             True\n",
      "Willis                    True\n",
      "Cypress                   True\n",
      "Cleveland                 True\n",
      "Pearland                  True\n",
      "League City               True\n",
      "Texas City                True\n",
      "Humble                    True\n",
      "Dickinson                False\n",
      "Fresno                   False\n",
      "Stafford                 False\n",
      "Highlands                False\n",
      "Mont Belvieu             False\n",
      "Hockley                  False\n",
      "Dayton                   False\n",
      "West Columbia            False\n",
      "Kendleton                False\n",
      "Splendora                False\n",
      "Prairie View             False\n",
      "Cat Spring               False\n",
      "Damon                    False\n",
      "Romayor                  False\n",
      "Industry                 False\n",
      "Alvin                    False\n",
      "Brookshire               False\n",
      "Channelview              False\n",
      "Beasley                  False\n",
      "Hull                     False\n",
      "Bellville                False\n",
      "South Houston            False\n",
      "Danbury                  False\n",
      "Needville                False\n",
      "Hardin                   False\n",
      "Mission Bend             False\n",
      "Crosby                   False\n",
      "Weston Lakes             False\n",
      "Rosharon                 False\n",
      "Sweeny                   False\n",
      "Guy                      False\n",
      "Deer Park                False\n",
      "Freeport                 False\n",
      "Pattison                 False\n",
      "Angleton                 False\n",
      "Wallis                   False\n",
      "Manvel                   False\n",
      "Rye                      False\n",
      "Bleiblerville            False\n",
      "Brazoria                 False\n",
      "Orchard                  False\n",
      "Hitchcock                False\n",
      "Hankamer                 False\n",
      "Galena Park              False\n",
      "Lake Jackson             False\n",
      "New Caney                False\n",
      "Seabrook                 False\n",
      "Waller                   False\n",
      "Devers                   False\n",
      "Cloverleaf               False\n",
      "Liberty                  False\n",
      "Thompsons                False\n",
      "New Ulm                  False\n",
      "Stowell                  False\n",
      "West University Place    False\n",
      "Pinehurst                False\n",
      "Friendswood              False\n",
      "Winnie                   False\n",
      "Porter                   False\n",
      "La Marque                False\n",
      "Hempstead                False\n",
      "Sealy                    False\n",
      "Daisetta                 False\n",
      "Clute                    False\n",
      "Wallisville              False\n",
      "Rosenberg                False\n",
      "Liverpool                False\n",
      "La Porte                 False\n",
      "Simonton                 False\n",
      "Bellaire                 False\n",
      "Jacinto City             False\n",
      "San Felipe               False\n",
      "Atascocita               False\n",
      "Anahuac                  False\n",
      "Bacliff                  False\n",
      "Huffman                  False\n",
      "Name: Neighborhood, dtype: bool\n"
     ]
    }
   ],
   "source": [
    "print(houston_cleaned_zips['Neighborhood'].value_counts() > 1)"
   ]
  },
  {
   "cell_type": "code",
   "execution_count": 80,
   "metadata": {},
   "outputs": [
    {
     "data": {
      "text/html": [
       "<div>\n",
       "<style scoped>\n",
       "    .dataframe tbody tr th:only-of-type {\n",
       "        vertical-align: middle;\n",
       "    }\n",
       "\n",
       "    .dataframe tbody tr th {\n",
       "        vertical-align: top;\n",
       "    }\n",
       "\n",
       "    .dataframe thead th {\n",
       "        text-align: right;\n",
       "    }\n",
       "</style>\n",
       "<table border=\"1\" class=\"dataframe\">\n",
       "  <thead>\n",
       "    <tr style=\"text-align: right;\">\n",
       "      <th></th>\n",
       "      <th>Zip_Code</th>\n",
       "      <th>Neighborhood</th>\n",
       "    </tr>\n",
       "  </thead>\n",
       "  <tbody>\n",
       "    <tr>\n",
       "      <th>0</th>\n",
       "      <td>77002</td>\n",
       "      <td>Houston</td>\n",
       "    </tr>\n",
       "    <tr>\n",
       "      <th>1</th>\n",
       "      <td>77003</td>\n",
       "      <td>Houston</td>\n",
       "    </tr>\n",
       "    <tr>\n",
       "      <th>2</th>\n",
       "      <td>77004</td>\n",
       "      <td>Houston</td>\n",
       "    </tr>\n",
       "    <tr>\n",
       "      <th>4</th>\n",
       "      <td>77006</td>\n",
       "      <td>Houston</td>\n",
       "    </tr>\n",
       "    <tr>\n",
       "      <th>5</th>\n",
       "      <td>77007</td>\n",
       "      <td>Houston</td>\n",
       "    </tr>\n",
       "    <tr>\n",
       "      <th>6</th>\n",
       "      <td>77008</td>\n",
       "      <td>Houston</td>\n",
       "    </tr>\n",
       "    <tr>\n",
       "      <th>7</th>\n",
       "      <td>77009</td>\n",
       "      <td>Houston</td>\n",
       "    </tr>\n",
       "    <tr>\n",
       "      <th>8</th>\n",
       "      <td>77010</td>\n",
       "      <td>Houston</td>\n",
       "    </tr>\n",
       "    <tr>\n",
       "      <th>9</th>\n",
       "      <td>77011</td>\n",
       "      <td>Houston</td>\n",
       "    </tr>\n",
       "    <tr>\n",
       "      <th>10</th>\n",
       "      <td>77012</td>\n",
       "      <td>Houston</td>\n",
       "    </tr>\n",
       "    <tr>\n",
       "      <th>11</th>\n",
       "      <td>77013</td>\n",
       "      <td>Houston</td>\n",
       "    </tr>\n",
       "    <tr>\n",
       "      <th>12</th>\n",
       "      <td>77014</td>\n",
       "      <td>Houston</td>\n",
       "    </tr>\n",
       "    <tr>\n",
       "      <th>14</th>\n",
       "      <td>77016</td>\n",
       "      <td>Houston</td>\n",
       "    </tr>\n",
       "    <tr>\n",
       "      <th>15</th>\n",
       "      <td>77017</td>\n",
       "      <td>Houston</td>\n",
       "    </tr>\n",
       "    <tr>\n",
       "      <th>16</th>\n",
       "      <td>77018</td>\n",
       "      <td>Houston</td>\n",
       "    </tr>\n",
       "    <tr>\n",
       "      <th>17</th>\n",
       "      <td>77019</td>\n",
       "      <td>Houston</td>\n",
       "    </tr>\n",
       "    <tr>\n",
       "      <th>18</th>\n",
       "      <td>77020</td>\n",
       "      <td>Houston</td>\n",
       "    </tr>\n",
       "    <tr>\n",
       "      <th>19</th>\n",
       "      <td>77021</td>\n",
       "      <td>Houston</td>\n",
       "    </tr>\n",
       "    <tr>\n",
       "      <th>20</th>\n",
       "      <td>77022</td>\n",
       "      <td>Houston</td>\n",
       "    </tr>\n",
       "    <tr>\n",
       "      <th>21</th>\n",
       "      <td>77023</td>\n",
       "      <td>Houston</td>\n",
       "    </tr>\n",
       "    <tr>\n",
       "      <th>22</th>\n",
       "      <td>77024</td>\n",
       "      <td>Houston</td>\n",
       "    </tr>\n",
       "    <tr>\n",
       "      <th>23</th>\n",
       "      <td>77025</td>\n",
       "      <td>Houston</td>\n",
       "    </tr>\n",
       "    <tr>\n",
       "      <th>24</th>\n",
       "      <td>77026</td>\n",
       "      <td>Houston</td>\n",
       "    </tr>\n",
       "    <tr>\n",
       "      <th>25</th>\n",
       "      <td>77027</td>\n",
       "      <td>Houston</td>\n",
       "    </tr>\n",
       "    <tr>\n",
       "      <th>26</th>\n",
       "      <td>77028</td>\n",
       "      <td>Houston</td>\n",
       "    </tr>\n",
       "    <tr>\n",
       "      <th>28</th>\n",
       "      <td>77030</td>\n",
       "      <td>Houston</td>\n",
       "    </tr>\n",
       "    <tr>\n",
       "      <th>29</th>\n",
       "      <td>77031</td>\n",
       "      <td>Houston</td>\n",
       "    </tr>\n",
       "    <tr>\n",
       "      <th>30</th>\n",
       "      <td>77032</td>\n",
       "      <td>Houston</td>\n",
       "    </tr>\n",
       "    <tr>\n",
       "      <th>31</th>\n",
       "      <td>77033</td>\n",
       "      <td>Houston</td>\n",
       "    </tr>\n",
       "    <tr>\n",
       "      <th>32</th>\n",
       "      <td>77034</td>\n",
       "      <td>Houston</td>\n",
       "    </tr>\n",
       "    <tr>\n",
       "      <th>33</th>\n",
       "      <td>77035</td>\n",
       "      <td>Houston</td>\n",
       "    </tr>\n",
       "    <tr>\n",
       "      <th>34</th>\n",
       "      <td>77036</td>\n",
       "      <td>Houston</td>\n",
       "    </tr>\n",
       "    <tr>\n",
       "      <th>35</th>\n",
       "      <td>77037</td>\n",
       "      <td>Houston</td>\n",
       "    </tr>\n",
       "    <tr>\n",
       "      <th>36</th>\n",
       "      <td>77038</td>\n",
       "      <td>Houston</td>\n",
       "    </tr>\n",
       "    <tr>\n",
       "      <th>37</th>\n",
       "      <td>77039</td>\n",
       "      <td>Houston</td>\n",
       "    </tr>\n",
       "    <tr>\n",
       "      <th>38</th>\n",
       "      <td>77040</td>\n",
       "      <td>Houston</td>\n",
       "    </tr>\n",
       "    <tr>\n",
       "      <th>39</th>\n",
       "      <td>77041</td>\n",
       "      <td>Houston</td>\n",
       "    </tr>\n",
       "    <tr>\n",
       "      <th>40</th>\n",
       "      <td>77042</td>\n",
       "      <td>Houston</td>\n",
       "    </tr>\n",
       "    <tr>\n",
       "      <th>41</th>\n",
       "      <td>77043</td>\n",
       "      <td>Houston</td>\n",
       "    </tr>\n",
       "    <tr>\n",
       "      <th>42</th>\n",
       "      <td>77044</td>\n",
       "      <td>Houston</td>\n",
       "    </tr>\n",
       "    <tr>\n",
       "      <th>43</th>\n",
       "      <td>77045</td>\n",
       "      <td>Houston</td>\n",
       "    </tr>\n",
       "    <tr>\n",
       "      <th>44</th>\n",
       "      <td>77046</td>\n",
       "      <td>Houston</td>\n",
       "    </tr>\n",
       "    <tr>\n",
       "      <th>45</th>\n",
       "      <td>77047</td>\n",
       "      <td>Houston</td>\n",
       "    </tr>\n",
       "    <tr>\n",
       "      <th>46</th>\n",
       "      <td>77048</td>\n",
       "      <td>Houston</td>\n",
       "    </tr>\n",
       "    <tr>\n",
       "      <th>47</th>\n",
       "      <td>77049</td>\n",
       "      <td>Houston</td>\n",
       "    </tr>\n",
       "    <tr>\n",
       "      <th>48</th>\n",
       "      <td>77050</td>\n",
       "      <td>Houston</td>\n",
       "    </tr>\n",
       "    <tr>\n",
       "      <th>49</th>\n",
       "      <td>77051</td>\n",
       "      <td>Houston</td>\n",
       "    </tr>\n",
       "    <tr>\n",
       "      <th>50</th>\n",
       "      <td>77053</td>\n",
       "      <td>Houston</td>\n",
       "    </tr>\n",
       "    <tr>\n",
       "      <th>51</th>\n",
       "      <td>77054</td>\n",
       "      <td>Houston</td>\n",
       "    </tr>\n",
       "    <tr>\n",
       "      <th>52</th>\n",
       "      <td>77055</td>\n",
       "      <td>Houston</td>\n",
       "    </tr>\n",
       "    <tr>\n",
       "      <th>53</th>\n",
       "      <td>77056</td>\n",
       "      <td>Houston</td>\n",
       "    </tr>\n",
       "    <tr>\n",
       "      <th>54</th>\n",
       "      <td>77057</td>\n",
       "      <td>Houston</td>\n",
       "    </tr>\n",
       "    <tr>\n",
       "      <th>55</th>\n",
       "      <td>77058</td>\n",
       "      <td>Houston</td>\n",
       "    </tr>\n",
       "    <tr>\n",
       "      <th>56</th>\n",
       "      <td>77059</td>\n",
       "      <td>Houston</td>\n",
       "    </tr>\n",
       "    <tr>\n",
       "      <th>57</th>\n",
       "      <td>77060</td>\n",
       "      <td>Houston</td>\n",
       "    </tr>\n",
       "    <tr>\n",
       "      <th>58</th>\n",
       "      <td>77061</td>\n",
       "      <td>Houston</td>\n",
       "    </tr>\n",
       "    <tr>\n",
       "      <th>59</th>\n",
       "      <td>77062</td>\n",
       "      <td>Houston</td>\n",
       "    </tr>\n",
       "    <tr>\n",
       "      <th>60</th>\n",
       "      <td>77063</td>\n",
       "      <td>Houston</td>\n",
       "    </tr>\n",
       "    <tr>\n",
       "      <th>61</th>\n",
       "      <td>77064</td>\n",
       "      <td>Houston</td>\n",
       "    </tr>\n",
       "    <tr>\n",
       "      <th>62</th>\n",
       "      <td>77065</td>\n",
       "      <td>Houston</td>\n",
       "    </tr>\n",
       "    <tr>\n",
       "      <th>63</th>\n",
       "      <td>77066</td>\n",
       "      <td>Houston</td>\n",
       "    </tr>\n",
       "    <tr>\n",
       "      <th>64</th>\n",
       "      <td>77067</td>\n",
       "      <td>Houston</td>\n",
       "    </tr>\n",
       "    <tr>\n",
       "      <th>65</th>\n",
       "      <td>77068</td>\n",
       "      <td>Houston</td>\n",
       "    </tr>\n",
       "    <tr>\n",
       "      <th>66</th>\n",
       "      <td>77069</td>\n",
       "      <td>Houston</td>\n",
       "    </tr>\n",
       "    <tr>\n",
       "      <th>67</th>\n",
       "      <td>77070</td>\n",
       "      <td>Houston</td>\n",
       "    </tr>\n",
       "    <tr>\n",
       "      <th>68</th>\n",
       "      <td>77071</td>\n",
       "      <td>Houston</td>\n",
       "    </tr>\n",
       "    <tr>\n",
       "      <th>69</th>\n",
       "      <td>77072</td>\n",
       "      <td>Houston</td>\n",
       "    </tr>\n",
       "    <tr>\n",
       "      <th>70</th>\n",
       "      <td>77073</td>\n",
       "      <td>Houston</td>\n",
       "    </tr>\n",
       "    <tr>\n",
       "      <th>71</th>\n",
       "      <td>77074</td>\n",
       "      <td>Houston</td>\n",
       "    </tr>\n",
       "    <tr>\n",
       "      <th>72</th>\n",
       "      <td>77075</td>\n",
       "      <td>Houston</td>\n",
       "    </tr>\n",
       "    <tr>\n",
       "      <th>73</th>\n",
       "      <td>77076</td>\n",
       "      <td>Houston</td>\n",
       "    </tr>\n",
       "    <tr>\n",
       "      <th>74</th>\n",
       "      <td>77077</td>\n",
       "      <td>Houston</td>\n",
       "    </tr>\n",
       "    <tr>\n",
       "      <th>75</th>\n",
       "      <td>77078</td>\n",
       "      <td>Houston</td>\n",
       "    </tr>\n",
       "    <tr>\n",
       "      <th>76</th>\n",
       "      <td>77079</td>\n",
       "      <td>Houston</td>\n",
       "    </tr>\n",
       "    <tr>\n",
       "      <th>77</th>\n",
       "      <td>77080</td>\n",
       "      <td>Houston</td>\n",
       "    </tr>\n",
       "    <tr>\n",
       "      <th>78</th>\n",
       "      <td>77081</td>\n",
       "      <td>Houston</td>\n",
       "    </tr>\n",
       "    <tr>\n",
       "      <th>79</th>\n",
       "      <td>77082</td>\n",
       "      <td>Houston</td>\n",
       "    </tr>\n",
       "    <tr>\n",
       "      <th>81</th>\n",
       "      <td>77084</td>\n",
       "      <td>Houston</td>\n",
       "    </tr>\n",
       "    <tr>\n",
       "      <th>82</th>\n",
       "      <td>77085</td>\n",
       "      <td>Houston</td>\n",
       "    </tr>\n",
       "    <tr>\n",
       "      <th>83</th>\n",
       "      <td>77086</td>\n",
       "      <td>Houston</td>\n",
       "    </tr>\n",
       "    <tr>\n",
       "      <th>84</th>\n",
       "      <td>77087</td>\n",
       "      <td>Houston</td>\n",
       "    </tr>\n",
       "    <tr>\n",
       "      <th>85</th>\n",
       "      <td>77088</td>\n",
       "      <td>Houston</td>\n",
       "    </tr>\n",
       "    <tr>\n",
       "      <th>86</th>\n",
       "      <td>77089</td>\n",
       "      <td>Houston</td>\n",
       "    </tr>\n",
       "    <tr>\n",
       "      <th>87</th>\n",
       "      <td>77090</td>\n",
       "      <td>Houston</td>\n",
       "    </tr>\n",
       "    <tr>\n",
       "      <th>88</th>\n",
       "      <td>77091</td>\n",
       "      <td>Houston</td>\n",
       "    </tr>\n",
       "    <tr>\n",
       "      <th>89</th>\n",
       "      <td>77092</td>\n",
       "      <td>Houston</td>\n",
       "    </tr>\n",
       "    <tr>\n",
       "      <th>90</th>\n",
       "      <td>77093</td>\n",
       "      <td>Houston</td>\n",
       "    </tr>\n",
       "    <tr>\n",
       "      <th>91</th>\n",
       "      <td>77094</td>\n",
       "      <td>Houston</td>\n",
       "    </tr>\n",
       "    <tr>\n",
       "      <th>92</th>\n",
       "      <td>77095</td>\n",
       "      <td>Houston</td>\n",
       "    </tr>\n",
       "    <tr>\n",
       "      <th>93</th>\n",
       "      <td>77096</td>\n",
       "      <td>Houston</td>\n",
       "    </tr>\n",
       "    <tr>\n",
       "      <th>94</th>\n",
       "      <td>77098</td>\n",
       "      <td>Houston</td>\n",
       "    </tr>\n",
       "    <tr>\n",
       "      <th>95</th>\n",
       "      <td>77099</td>\n",
       "      <td>Houston</td>\n",
       "    </tr>\n",
       "    <tr>\n",
       "      <th>96</th>\n",
       "      <td>77201</td>\n",
       "      <td>Houston</td>\n",
       "    </tr>\n",
       "    <tr>\n",
       "      <th>108</th>\n",
       "      <td>77339</td>\n",
       "      <td>Houston</td>\n",
       "    </tr>\n",
       "    <tr>\n",
       "      <th>109</th>\n",
       "      <td>77345</td>\n",
       "      <td>Houston</td>\n",
       "    </tr>\n",
       "    <tr>\n",
       "      <th>226</th>\n",
       "      <td>77598</td>\n",
       "      <td>Houston</td>\n",
       "    </tr>\n",
       "  </tbody>\n",
       "</table>\n",
       "</div>"
      ],
      "text/plain": [
       "    Zip_Code Neighborhood\n",
       "0      77002      Houston\n",
       "1      77003      Houston\n",
       "2      77004      Houston\n",
       "4      77006      Houston\n",
       "5      77007      Houston\n",
       "6      77008      Houston\n",
       "7      77009      Houston\n",
       "8      77010      Houston\n",
       "9      77011      Houston\n",
       "10     77012      Houston\n",
       "11     77013      Houston\n",
       "12     77014      Houston\n",
       "14     77016      Houston\n",
       "15     77017      Houston\n",
       "16     77018      Houston\n",
       "17     77019      Houston\n",
       "18     77020      Houston\n",
       "19     77021      Houston\n",
       "20     77022      Houston\n",
       "21     77023      Houston\n",
       "22     77024      Houston\n",
       "23     77025      Houston\n",
       "24     77026      Houston\n",
       "25     77027      Houston\n",
       "26     77028      Houston\n",
       "28     77030      Houston\n",
       "29     77031      Houston\n",
       "30     77032      Houston\n",
       "31     77033      Houston\n",
       "32     77034      Houston\n",
       "33     77035      Houston\n",
       "34     77036      Houston\n",
       "35     77037      Houston\n",
       "36     77038      Houston\n",
       "37     77039      Houston\n",
       "38     77040      Houston\n",
       "39     77041      Houston\n",
       "40     77042      Houston\n",
       "41     77043      Houston\n",
       "42     77044      Houston\n",
       "43     77045      Houston\n",
       "44     77046      Houston\n",
       "45     77047      Houston\n",
       "46     77048      Houston\n",
       "47     77049      Houston\n",
       "48     77050      Houston\n",
       "49     77051      Houston\n",
       "50     77053      Houston\n",
       "51     77054      Houston\n",
       "52     77055      Houston\n",
       "53     77056      Houston\n",
       "54     77057      Houston\n",
       "55     77058      Houston\n",
       "56     77059      Houston\n",
       "57     77060      Houston\n",
       "58     77061      Houston\n",
       "59     77062      Houston\n",
       "60     77063      Houston\n",
       "61     77064      Houston\n",
       "62     77065      Houston\n",
       "63     77066      Houston\n",
       "64     77067      Houston\n",
       "65     77068      Houston\n",
       "66     77069      Houston\n",
       "67     77070      Houston\n",
       "68     77071      Houston\n",
       "69     77072      Houston\n",
       "70     77073      Houston\n",
       "71     77074      Houston\n",
       "72     77075      Houston\n",
       "73     77076      Houston\n",
       "74     77077      Houston\n",
       "75     77078      Houston\n",
       "76     77079      Houston\n",
       "77     77080      Houston\n",
       "78     77081      Houston\n",
       "79     77082      Houston\n",
       "81     77084      Houston\n",
       "82     77085      Houston\n",
       "83     77086      Houston\n",
       "84     77087      Houston\n",
       "85     77088      Houston\n",
       "86     77089      Houston\n",
       "87     77090      Houston\n",
       "88     77091      Houston\n",
       "89     77092      Houston\n",
       "90     77093      Houston\n",
       "91     77094      Houston\n",
       "92     77095      Houston\n",
       "93     77096      Houston\n",
       "94     77098      Houston\n",
       "95     77099      Houston\n",
       "96     77201      Houston\n",
       "108    77339      Houston\n",
       "109    77345      Houston\n",
       "226    77598      Houston"
      ]
     },
     "execution_count": 80,
     "metadata": {},
     "output_type": "execute_result"
    }
   ],
   "source": [
    "houston_cleaned_zips[houston_cleaned_zips['Neighborhood'] == 'Houston']"
   ]
  },
  {
   "cell_type": "code",
   "execution_count": 81,
   "metadata": {},
   "outputs": [],
   "source": [
    "houston_names = ['Downtown, Midtown', 'East Downtown', 'South Central, Greater Third Ward', 'Montrose, Hyde Park', 'Rice Military, Memorial Park', 'Shady Acres, Greater Heights, Lazybrook',\n",
    "            'Northside Village, Woodland Heights', 'George R Brown', 'Greater East End, Second ward, Magnolia Park', 'Harrisburg, Manchester', 'North Shore', 'Silverglen, Sablechase',\n",
    "            'East Little York, Homestead', 'Meadowbrook, Allendale', 'Central Northwest', 'River Oaks, Fourth Ward', 'Greater Fifth Ward, Denver Harbor, Port Houston', 'Greater OST',\n",
    "            'Independence Heights', 'Greater Eastwood, Lawndale, Wayside, Gulfgate, Pine Valley', 'Memorial Villages, Briargrove Park', 'Braeswood Place, Willowbend Area', 'Kashmere Gardens',\n",
    "            'River Oaks, Bellaire Junction', 'Trinity, Houston Gardens, Settegast', 'Texas Medical Center', 'Brays Oaks, Braeburn Gardens', 'Greenbriar Colony, Aldine Estates', \n",
    "            'Southeast Houston, Southpark', 'Edgebrook', 'Westbury, Southeast Houston', 'Chinatown, Sharpstown', 'Aldine', 'Fallbrook, Forestwood', 'High Meadows, Fairgreen', \n",
    "            'Fairbanks, Northwest Crossing', 'Lakes on Eldridge, Jersey Acres', 'Briarforest, Westchase, Walnut Bend', 'Spring Branch North, Spring Branch West', 'Summerwood',\n",
    "            'Central Southwest', 'Greenway, Upper Kirby', 'Cloverland, South Acres, Crestmont Park', 'Minnetex, South Acres, Crestmont Park', 'Houston Farms, Sheldon Park',\n",
    "            'Shadowlake Estates, Forest Acres', 'Sunnyside, Brookhaven', 'Kellys Corner, Quail Bridge, Ridgegate', 'Astrodome, South Main', 'Spring Branch East', 'West Oaks, Uptown',\n",
    "            'Tanglewood, San Felipe', 'Clear Lake Area, Nassau Bay', 'Clear Lake Area, Pinebrook, Brookwood', 'Greenspoint', 'Hobby, Glenbrook Valley', 'Clear Lake Area, Bay Knoll',\n",
    "            'Mid-west', 'Harvest Bend, North Houston', 'Wortham Park, Tower Oaks', 'Champions Point, Glennwood Forest, Kleinbrook', 'Heritage Village, Green Oak Park', 'Meyer Park, Collins Park',\n",
    "            'Champions', 'Willowbrook', 'Brays Oaks, Fondren Park', 'Alief', 'Northridge Park, Remington Ranch', 'Braeburn, Braes Timbers, Robindell', 'Greater Hobby Area', 'Northside, Northline',\n",
    "            'Briar Forest, Eldridge', 'East Houston', 'Energy Corridor', 'Spring Branch Central', 'Gulfton', 'Royal Oaks, Westchase', 'Addicks, Park Ten', 'Fondren Gardens, Corithian Pointe, Winchester',\n",
    "            'Northwest Park', 'Golfcrest, Bellfort, Reveille', 'Inwood, Acres Homes', 'Southbelt, Ellington', 'Cypress Station', 'Greater Inwood', 'Forest Lake, Langwood', 'Eastex, Jenson',\n",
    "            'Windsor Park, Green Trails', 'Copperfield, Canyon Lakes', 'Meyerland', 'Boulevard Oaks, Crowne Plaza', 'Huntington Village, Alief', 'Post Houston', ' North Humble', 'Kingwood',\n",
    "            'Webster']"
   ]
  },
  {
   "cell_type": "code",
   "execution_count": 82,
   "metadata": {},
   "outputs": [
    {
     "data": {
      "text/html": [
       "<div>\n",
       "<style scoped>\n",
       "    .dataframe tbody tr th:only-of-type {\n",
       "        vertical-align: middle;\n",
       "    }\n",
       "\n",
       "    .dataframe tbody tr th {\n",
       "        vertical-align: top;\n",
       "    }\n",
       "\n",
       "    .dataframe thead th {\n",
       "        text-align: right;\n",
       "    }\n",
       "</style>\n",
       "<table border=\"1\" class=\"dataframe\">\n",
       "  <thead>\n",
       "    <tr style=\"text-align: right;\">\n",
       "      <th></th>\n",
       "      <th>Zip_Code</th>\n",
       "      <th>Neighborhood</th>\n",
       "    </tr>\n",
       "  </thead>\n",
       "  <tbody>\n",
       "    <tr>\n",
       "      <th>97</th>\n",
       "      <td>77301</td>\n",
       "      <td>Conroe</td>\n",
       "    </tr>\n",
       "    <tr>\n",
       "      <th>98</th>\n",
       "      <td>77302</td>\n",
       "      <td>Conroe</td>\n",
       "    </tr>\n",
       "    <tr>\n",
       "      <th>99</th>\n",
       "      <td>77303</td>\n",
       "      <td>Conroe</td>\n",
       "    </tr>\n",
       "    <tr>\n",
       "      <th>100</th>\n",
       "      <td>77304</td>\n",
       "      <td>Conroe</td>\n",
       "    </tr>\n",
       "    <tr>\n",
       "      <th>101</th>\n",
       "      <td>77306</td>\n",
       "      <td>Conroe</td>\n",
       "    </tr>\n",
       "    <tr>\n",
       "      <th>128</th>\n",
       "      <td>77384</td>\n",
       "      <td>Conroe</td>\n",
       "    </tr>\n",
       "    <tr>\n",
       "      <th>129</th>\n",
       "      <td>77385</td>\n",
       "      <td>Conroe</td>\n",
       "    </tr>\n",
       "  </tbody>\n",
       "</table>\n",
       "</div>"
      ],
      "text/plain": [
       "    Zip_Code Neighborhood\n",
       "97     77301       Conroe\n",
       "98     77302       Conroe\n",
       "99     77303       Conroe\n",
       "100    77304       Conroe\n",
       "101    77306       Conroe\n",
       "128    77384       Conroe\n",
       "129    77385       Conroe"
      ]
     },
     "execution_count": 82,
     "metadata": {},
     "output_type": "execute_result"
    }
   ],
   "source": [
    "houston_cleaned_zips[houston_cleaned_zips['Neighborhood'] == 'Conroe']"
   ]
  },
  {
   "cell_type": "code",
   "execution_count": 83,
   "metadata": {},
   "outputs": [],
   "source": [
    "conroe_names = ['East Conroe', 'Southeast Conroe', 'Northeast Conroe', 'West Conroe', 'Far East Conroe', 'Southwest Conroe', 'East Woodlands - Conroe']"
   ]
  },
  {
   "cell_type": "code",
   "execution_count": 84,
   "metadata": {},
   "outputs": [
    {
     "data": {
      "text/html": [
       "<div>\n",
       "<style scoped>\n",
       "    .dataframe tbody tr th:only-of-type {\n",
       "        vertical-align: middle;\n",
       "    }\n",
       "\n",
       "    .dataframe tbody tr th {\n",
       "        vertical-align: top;\n",
       "    }\n",
       "\n",
       "    .dataframe thead th {\n",
       "        text-align: right;\n",
       "    }\n",
       "</style>\n",
       "<table border=\"1\" class=\"dataframe\">\n",
       "  <thead>\n",
       "    <tr style=\"text-align: right;\">\n",
       "      <th></th>\n",
       "      <th>Zip_Code</th>\n",
       "      <th>Neighborhood</th>\n",
       "    </tr>\n",
       "  </thead>\n",
       "  <tbody>\n",
       "    <tr>\n",
       "      <th>173</th>\n",
       "      <td>77502</td>\n",
       "      <td>Pasadena</td>\n",
       "    </tr>\n",
       "    <tr>\n",
       "      <th>174</th>\n",
       "      <td>77503</td>\n",
       "      <td>Pasadena</td>\n",
       "    </tr>\n",
       "    <tr>\n",
       "      <th>175</th>\n",
       "      <td>77504</td>\n",
       "      <td>Pasadena</td>\n",
       "    </tr>\n",
       "    <tr>\n",
       "      <th>176</th>\n",
       "      <td>77505</td>\n",
       "      <td>Pasadena</td>\n",
       "    </tr>\n",
       "    <tr>\n",
       "      <th>177</th>\n",
       "      <td>77506</td>\n",
       "      <td>Pasadena</td>\n",
       "    </tr>\n",
       "    <tr>\n",
       "      <th>178</th>\n",
       "      <td>77507</td>\n",
       "      <td>Pasadena</td>\n",
       "    </tr>\n",
       "  </tbody>\n",
       "</table>\n",
       "</div>"
      ],
      "text/plain": [
       "    Zip_Code Neighborhood\n",
       "173    77502     Pasadena\n",
       "174    77503     Pasadena\n",
       "175    77504     Pasadena\n",
       "176    77505     Pasadena\n",
       "177    77506     Pasadena\n",
       "178    77507     Pasadena"
      ]
     },
     "execution_count": 84,
     "metadata": {},
     "output_type": "execute_result"
    }
   ],
   "source": [
    "houston_cleaned_zips[houston_cleaned_zips['Neighborhood'] == 'Pasadena']"
   ]
  },
  {
   "cell_type": "code",
   "execution_count": 85,
   "metadata": {},
   "outputs": [],
   "source": [
    "pasadena_names = ['Central Pasadena', 'Northwest Pasadena', 'South Pasadena', 'Southeast Pasadena', 'North Pasadena', 'Industrial - Pasadena']"
   ]
  },
  {
   "cell_type": "code",
   "execution_count": 86,
   "metadata": {},
   "outputs": [
    {
     "data": {
      "text/html": [
       "<div>\n",
       "<style scoped>\n",
       "    .dataframe tbody tr th:only-of-type {\n",
       "        vertical-align: middle;\n",
       "    }\n",
       "\n",
       "    .dataframe tbody tr th {\n",
       "        vertical-align: top;\n",
       "    }\n",
       "\n",
       "    .dataframe thead th {\n",
       "        text-align: right;\n",
       "    }\n",
       "</style>\n",
       "<table border=\"1\" class=\"dataframe\">\n",
       "  <thead>\n",
       "    <tr style=\"text-align: right;\">\n",
       "      <th></th>\n",
       "      <th>Zip_Code</th>\n",
       "      <th>Neighborhood</th>\n",
       "    </tr>\n",
       "  </thead>\n",
       "  <tbody>\n",
       "    <tr>\n",
       "      <th>120</th>\n",
       "      <td>77373</td>\n",
       "      <td>Spring</td>\n",
       "    </tr>\n",
       "    <tr>\n",
       "      <th>124</th>\n",
       "      <td>77379</td>\n",
       "      <td>Spring</td>\n",
       "    </tr>\n",
       "    <tr>\n",
       "      <th>130</th>\n",
       "      <td>77386</td>\n",
       "      <td>Spring</td>\n",
       "    </tr>\n",
       "    <tr>\n",
       "      <th>131</th>\n",
       "      <td>77388</td>\n",
       "      <td>Spring</td>\n",
       "    </tr>\n",
       "    <tr>\n",
       "      <th>132</th>\n",
       "      <td>77389</td>\n",
       "      <td>Spring</td>\n",
       "    </tr>\n",
       "  </tbody>\n",
       "</table>\n",
       "</div>"
      ],
      "text/plain": [
       "    Zip_Code Neighborhood\n",
       "120    77373       Spring\n",
       "124    77379       Spring\n",
       "130    77386       Spring\n",
       "131    77388       Spring\n",
       "132    77389       Spring"
      ]
     },
     "execution_count": 86,
     "metadata": {},
     "output_type": "execute_result"
    }
   ],
   "source": [
    "houston_cleaned_zips[houston_cleaned_zips['Neighborhood'] == 'Spring']"
   ]
  },
  {
   "cell_type": "code",
   "execution_count": 87,
   "metadata": {},
   "outputs": [],
   "source": [
    "spring_names = ['East Spring', 'Klein Area - Spring', 'Northeast Spring', 'Southwest Spring', 'Northwest Spring']"
   ]
  },
  {
   "cell_type": "code",
   "execution_count": 88,
   "metadata": {},
   "outputs": [
    {
     "data": {
      "text/html": [
       "<div>\n",
       "<style scoped>\n",
       "    .dataframe tbody tr th:only-of-type {\n",
       "        vertical-align: middle;\n",
       "    }\n",
       "\n",
       "    .dataframe tbody tr th {\n",
       "        vertical-align: top;\n",
       "    }\n",
       "\n",
       "    .dataframe thead th {\n",
       "        text-align: right;\n",
       "    }\n",
       "</style>\n",
       "<table border=\"1\" class=\"dataframe\">\n",
       "  <thead>\n",
       "    <tr style=\"text-align: right;\">\n",
       "      <th></th>\n",
       "      <th>Zip_Code</th>\n",
       "      <th>Neighborhood</th>\n",
       "    </tr>\n",
       "  </thead>\n",
       "  <tbody>\n",
       "    <tr>\n",
       "      <th>149</th>\n",
       "      <td>77449</td>\n",
       "      <td>Katy</td>\n",
       "    </tr>\n",
       "    <tr>\n",
       "      <th>150</th>\n",
       "      <td>77450</td>\n",
       "      <td>Katy</td>\n",
       "    </tr>\n",
       "    <tr>\n",
       "      <th>170</th>\n",
       "      <td>77493</td>\n",
       "      <td>Katy</td>\n",
       "    </tr>\n",
       "    <tr>\n",
       "      <th>171</th>\n",
       "      <td>77494</td>\n",
       "      <td>Katy</td>\n",
       "    </tr>\n",
       "  </tbody>\n",
       "</table>\n",
       "</div>"
      ],
      "text/plain": [
       "    Zip_Code Neighborhood\n",
       "149    77449         Katy\n",
       "150    77450         Katy\n",
       "170    77493         Katy\n",
       "171    77494         Katy"
      ]
     },
     "execution_count": 88,
     "metadata": {},
     "output_type": "execute_result"
    }
   ],
   "source": [
    "houston_cleaned_zips[houston_cleaned_zips['Neighborhood'] == 'Katy']"
   ]
  },
  {
   "cell_type": "code",
   "execution_count": 89,
   "metadata": {},
   "outputs": [],
   "source": [
    "katy_names = ['Northeast Katy', 'Southeast Katy', 'Noorthwest Katy', 'Southwest Katy']"
   ]
  },
  {
   "cell_type": "code",
   "execution_count": 90,
   "metadata": {},
   "outputs": [
    {
     "data": {
      "text/html": [
       "<div>\n",
       "<style scoped>\n",
       "    .dataframe tbody tr th:only-of-type {\n",
       "        vertical-align: middle;\n",
       "    }\n",
       "\n",
       "    .dataframe tbody tr th {\n",
       "        vertical-align: top;\n",
       "    }\n",
       "\n",
       "    .dataframe thead th {\n",
       "        text-align: right;\n",
       "    }\n",
       "</style>\n",
       "<table border=\"1\" class=\"dataframe\">\n",
       "  <thead>\n",
       "    <tr style=\"text-align: right;\">\n",
       "      <th></th>\n",
       "      <th>Zip_Code</th>\n",
       "      <th>Neighborhood</th>\n",
       "    </tr>\n",
       "  </thead>\n",
       "  <tbody>\n",
       "    <tr>\n",
       "      <th>162</th>\n",
       "      <td>77478</td>\n",
       "      <td>Sugar Land</td>\n",
       "    </tr>\n",
       "    <tr>\n",
       "      <th>163</th>\n",
       "      <td>77479</td>\n",
       "      <td>Sugar Land</td>\n",
       "    </tr>\n",
       "    <tr>\n",
       "      <th>172</th>\n",
       "      <td>77498</td>\n",
       "      <td>Sugar Land</td>\n",
       "    </tr>\n",
       "  </tbody>\n",
       "</table>\n",
       "</div>"
      ],
      "text/plain": [
       "    Zip_Code Neighborhood\n",
       "162    77478   Sugar Land\n",
       "163    77479   Sugar Land\n",
       "172    77498   Sugar Land"
      ]
     },
     "execution_count": 90,
     "metadata": {},
     "output_type": "execute_result"
    }
   ],
   "source": [
    "houston_cleaned_zips[houston_cleaned_zips['Neighborhood'] == 'Sugar Land']"
   ]
  },
  {
   "cell_type": "code",
   "execution_count": 91,
   "metadata": {},
   "outputs": [],
   "source": [
    "sugar_land_names = ['Northeast Sugar Land', 'Southwest Sugar Land', 'Northwest Sugarland']"
   ]
  },
  {
   "cell_type": "code",
   "execution_count": 92,
   "metadata": {},
   "outputs": [
    {
     "data": {
      "text/html": [
       "<div>\n",
       "<style scoped>\n",
       "    .dataframe tbody tr th:only-of-type {\n",
       "        vertical-align: middle;\n",
       "    }\n",
       "\n",
       "    .dataframe tbody tr th {\n",
       "        vertical-align: top;\n",
       "    }\n",
       "\n",
       "    .dataframe thead th {\n",
       "        text-align: right;\n",
       "    }\n",
       "</style>\n",
       "<table border=\"1\" class=\"dataframe\">\n",
       "  <thead>\n",
       "    <tr style=\"text-align: right;\">\n",
       "      <th></th>\n",
       "      <th>Zip_Code</th>\n",
       "      <th>Neighborhood</th>\n",
       "    </tr>\n",
       "  </thead>\n",
       "  <tbody>\n",
       "    <tr>\n",
       "      <th>135</th>\n",
       "      <td>77406</td>\n",
       "      <td>Richmond</td>\n",
       "    </tr>\n",
       "    <tr>\n",
       "      <th>136</th>\n",
       "      <td>77407</td>\n",
       "      <td>Richmond</td>\n",
       "    </tr>\n",
       "    <tr>\n",
       "      <th>156</th>\n",
       "      <td>77469</td>\n",
       "      <td>Richmond</td>\n",
       "    </tr>\n",
       "  </tbody>\n",
       "</table>\n",
       "</div>"
      ],
      "text/plain": [
       "    Zip_Code Neighborhood\n",
       "135    77406     Richmond\n",
       "136    77407     Richmond\n",
       "156    77469     Richmond"
      ]
     },
     "execution_count": 92,
     "metadata": {},
     "output_type": "execute_result"
    }
   ],
   "source": [
    "houston_cleaned_zips[houston_cleaned_zips['Neighborhood'] == 'Richmond']"
   ]
  },
  {
   "cell_type": "code",
   "execution_count": 93,
   "metadata": {},
   "outputs": [],
   "source": [
    "richmond_names = ['Central Richmond', 'Northeast Richmond', 'South Richmond']"
   ]
  },
  {
   "cell_type": "code",
   "execution_count": 94,
   "metadata": {},
   "outputs": [
    {
     "data": {
      "text/html": [
       "<div>\n",
       "<style scoped>\n",
       "    .dataframe tbody tr th:only-of-type {\n",
       "        vertical-align: middle;\n",
       "    }\n",
       "\n",
       "    .dataframe tbody tr th {\n",
       "        vertical-align: top;\n",
       "    }\n",
       "\n",
       "    .dataframe thead th {\n",
       "        text-align: right;\n",
       "    }\n",
       "</style>\n",
       "<table border=\"1\" class=\"dataframe\">\n",
       "  <thead>\n",
       "    <tr style=\"text-align: right;\">\n",
       "      <th></th>\n",
       "      <th>Zip_Code</th>\n",
       "      <th>Neighborhood</th>\n",
       "    </tr>\n",
       "  </thead>\n",
       "  <tbody>\n",
       "    <tr>\n",
       "      <th>227</th>\n",
       "      <td>77617</td>\n",
       "      <td>Bolivar Peninsula</td>\n",
       "    </tr>\n",
       "    <tr>\n",
       "      <th>228</th>\n",
       "      <td>77623</td>\n",
       "      <td>Bolivar Peninsula</td>\n",
       "    </tr>\n",
       "    <tr>\n",
       "      <th>229</th>\n",
       "      <td>77650</td>\n",
       "      <td>Bolivar Peninsula</td>\n",
       "    </tr>\n",
       "  </tbody>\n",
       "</table>\n",
       "</div>"
      ],
      "text/plain": [
       "    Zip_Code       Neighborhood\n",
       "227    77617  Bolivar Peninsula\n",
       "228    77623  Bolivar Peninsula\n",
       "229    77650  Bolivar Peninsula"
      ]
     },
     "execution_count": 94,
     "metadata": {},
     "output_type": "execute_result"
    }
   ],
   "source": [
    "houston_cleaned_zips[houston_cleaned_zips['Neighborhood'] == 'Bolivar Peninsula']"
   ]
  },
  {
   "cell_type": "code",
   "execution_count": 95,
   "metadata": {},
   "outputs": [],
   "source": [
    "bolivar_names = ['Central Bolivar Peninsula', 'East Bolivar Peninsula', 'West Bolivar Peninsula' ]"
   ]
  },
  {
   "cell_type": "code",
   "execution_count": 96,
   "metadata": {},
   "outputs": [
    {
     "data": {
      "text/html": [
       "<div>\n",
       "<style scoped>\n",
       "    .dataframe tbody tr th:only-of-type {\n",
       "        vertical-align: middle;\n",
       "    }\n",
       "\n",
       "    .dataframe tbody tr th {\n",
       "        vertical-align: top;\n",
       "    }\n",
       "\n",
       "    .dataframe thead th {\n",
       "        text-align: right;\n",
       "    }\n",
       "</style>\n",
       "<table border=\"1\" class=\"dataframe\">\n",
       "  <thead>\n",
       "    <tr style=\"text-align: right;\">\n",
       "      <th></th>\n",
       "      <th>Zip_Code</th>\n",
       "      <th>Neighborhood</th>\n",
       "    </tr>\n",
       "  </thead>\n",
       "  <tbody>\n",
       "    <tr>\n",
       "      <th>125</th>\n",
       "      <td>77380</td>\n",
       "      <td>The Woodlands</td>\n",
       "    </tr>\n",
       "    <tr>\n",
       "      <th>126</th>\n",
       "      <td>77381</td>\n",
       "      <td>The Woodlands</td>\n",
       "    </tr>\n",
       "    <tr>\n",
       "      <th>127</th>\n",
       "      <td>77382</td>\n",
       "      <td>The Woodlands</td>\n",
       "    </tr>\n",
       "  </tbody>\n",
       "</table>\n",
       "</div>"
      ],
      "text/plain": [
       "    Zip_Code   Neighborhood\n",
       "125    77380  The Woodlands\n",
       "126    77381  The Woodlands\n",
       "127    77382  The Woodlands"
      ]
     },
     "execution_count": 96,
     "metadata": {},
     "output_type": "execute_result"
    }
   ],
   "source": [
    "houston_cleaned_zips[houston_cleaned_zips['Neighborhood'] == 'The Woodlands']"
   ]
  },
  {
   "cell_type": "code",
   "execution_count": 97,
   "metadata": {},
   "outputs": [],
   "source": [
    "woodlands_names = ['South Woodlands', 'North Woodlands', 'Spring Area - The Woodlands']"
   ]
  },
  {
   "cell_type": "code",
   "execution_count": 98,
   "metadata": {},
   "outputs": [
    {
     "data": {
      "text/html": [
       "<div>\n",
       "<style scoped>\n",
       "    .dataframe tbody tr th:only-of-type {\n",
       "        vertical-align: middle;\n",
       "    }\n",
       "\n",
       "    .dataframe tbody tr th {\n",
       "        vertical-align: top;\n",
       "    }\n",
       "\n",
       "    .dataframe thead th {\n",
       "        text-align: right;\n",
       "    }\n",
       "</style>\n",
       "<table border=\"1\" class=\"dataframe\">\n",
       "  <thead>\n",
       "    <tr style=\"text-align: right;\">\n",
       "      <th></th>\n",
       "      <th>Zip_Code</th>\n",
       "      <th>Neighborhood</th>\n",
       "    </tr>\n",
       "  </thead>\n",
       "  <tbody>\n",
       "    <tr>\n",
       "      <th>185</th>\n",
       "      <td>77520</td>\n",
       "      <td>Baytown</td>\n",
       "    </tr>\n",
       "    <tr>\n",
       "      <th>186</th>\n",
       "      <td>77521</td>\n",
       "      <td>Baytown</td>\n",
       "    </tr>\n",
       "    <tr>\n",
       "      <th>187</th>\n",
       "      <td>77523</td>\n",
       "      <td>Baytown</td>\n",
       "    </tr>\n",
       "  </tbody>\n",
       "</table>\n",
       "</div>"
      ],
      "text/plain": [
       "    Zip_Code Neighborhood\n",
       "185    77520      Baytown\n",
       "186    77521      Baytown\n",
       "187    77523      Baytown"
      ]
     },
     "execution_count": 98,
     "metadata": {},
     "output_type": "execute_result"
    }
   ],
   "source": [
    "houston_cleaned_zips[houston_cleaned_zips['Neighborhood'] == 'Baytown']"
   ]
  },
  {
   "cell_type": "code",
   "execution_count": 99,
   "metadata": {},
   "outputs": [],
   "source": [
    "baytown_names = ['Central Baytown', 'North Baytown', 'East Baytown']"
   ]
  },
  {
   "cell_type": "code",
   "execution_count": 100,
   "metadata": {},
   "outputs": [
    {
     "data": {
      "text/html": [
       "<div>\n",
       "<style scoped>\n",
       "    .dataframe tbody tr th:only-of-type {\n",
       "        vertical-align: middle;\n",
       "    }\n",
       "\n",
       "    .dataframe tbody tr th {\n",
       "        vertical-align: top;\n",
       "    }\n",
       "\n",
       "    .dataframe thead th {\n",
       "        text-align: right;\n",
       "    }\n",
       "</style>\n",
       "<table border=\"1\" class=\"dataframe\">\n",
       "  <thead>\n",
       "    <tr style=\"text-align: right;\">\n",
       "      <th></th>\n",
       "      <th>Zip_Code</th>\n",
       "      <th>Neighborhood</th>\n",
       "    </tr>\n",
       "  </thead>\n",
       "  <tbody>\n",
       "    <tr>\n",
       "      <th>201</th>\n",
       "      <td>77550</td>\n",
       "      <td>Galveston</td>\n",
       "    </tr>\n",
       "    <tr>\n",
       "      <th>202</th>\n",
       "      <td>77551</td>\n",
       "      <td>Galveston</td>\n",
       "    </tr>\n",
       "    <tr>\n",
       "      <th>203</th>\n",
       "      <td>77554</td>\n",
       "      <td>Galveston</td>\n",
       "    </tr>\n",
       "  </tbody>\n",
       "</table>\n",
       "</div>"
      ],
      "text/plain": [
       "    Zip_Code Neighborhood\n",
       "201    77550    Galveston\n",
       "202    77551    Galveston\n",
       "203    77554    Galveston"
      ]
     },
     "execution_count": 100,
     "metadata": {},
     "output_type": "execute_result"
    }
   ],
   "source": [
    "houston_cleaned_zips[houston_cleaned_zips['Neighborhood'] == 'Galveston']"
   ]
  },
  {
   "cell_type": "code",
   "execution_count": 101,
   "metadata": {},
   "outputs": [],
   "source": [
    "galveston_names = ['East End - Galveston', 'Sea Wall - Galveston', 'West End - Galveston']"
   ]
  },
  {
   "cell_type": "code",
   "execution_count": 102,
   "metadata": {},
   "outputs": [
    {
     "data": {
      "text/html": [
       "<div>\n",
       "<style scoped>\n",
       "    .dataframe tbody tr th:only-of-type {\n",
       "        vertical-align: middle;\n",
       "    }\n",
       "\n",
       "    .dataframe tbody tr th {\n",
       "        vertical-align: top;\n",
       "    }\n",
       "\n",
       "    .dataframe thead th {\n",
       "        text-align: right;\n",
       "    }\n",
       "</style>\n",
       "<table border=\"1\" class=\"dataframe\">\n",
       "  <thead>\n",
       "    <tr style=\"text-align: right;\">\n",
       "      <th></th>\n",
       "      <th>Zip_Code</th>\n",
       "      <th>Neighborhood</th>\n",
       "    </tr>\n",
       "  </thead>\n",
       "  <tbody>\n",
       "    <tr>\n",
       "      <th>104</th>\n",
       "      <td>77327</td>\n",
       "      <td>Cleveland</td>\n",
       "    </tr>\n",
       "    <tr>\n",
       "      <th>105</th>\n",
       "      <td>77328</td>\n",
       "      <td>Cleveland</td>\n",
       "    </tr>\n",
       "  </tbody>\n",
       "</table>\n",
       "</div>"
      ],
      "text/plain": [
       "    Zip_Code Neighborhood\n",
       "104    77327    Cleveland\n",
       "105    77328    Cleveland"
      ]
     },
     "execution_count": 102,
     "metadata": {},
     "output_type": "execute_result"
    }
   ],
   "source": [
    "houston_cleaned_zips[houston_cleaned_zips['Neighborhood'] == 'Cleveland']"
   ]
  },
  {
   "cell_type": "code",
   "execution_count": 103,
   "metadata": {},
   "outputs": [],
   "source": [
    "cleveland_names = ['East Cleveland', 'West Cleveland']"
   ]
  },
  {
   "cell_type": "code",
   "execution_count": 104,
   "metadata": {},
   "outputs": [
    {
     "data": {
      "text/html": [
       "<div>\n",
       "<style scoped>\n",
       "    .dataframe tbody tr th:only-of-type {\n",
       "        vertical-align: middle;\n",
       "    }\n",
       "\n",
       "    .dataframe tbody tr th {\n",
       "        vertical-align: top;\n",
       "    }\n",
       "\n",
       "    .dataframe thead th {\n",
       "        text-align: right;\n",
       "    }\n",
       "</style>\n",
       "<table border=\"1\" class=\"dataframe\">\n",
       "  <thead>\n",
       "    <tr style=\"text-align: right;\">\n",
       "      <th></th>\n",
       "      <th>Zip_Code</th>\n",
       "      <th>Neighborhood</th>\n",
       "    </tr>\n",
       "  </thead>\n",
       "  <tbody>\n",
       "    <tr>\n",
       "      <th>223</th>\n",
       "      <td>77590</td>\n",
       "      <td>Texas City</td>\n",
       "    </tr>\n",
       "    <tr>\n",
       "      <th>224</th>\n",
       "      <td>77591</td>\n",
       "      <td>Texas City</td>\n",
       "    </tr>\n",
       "  </tbody>\n",
       "</table>\n",
       "</div>"
      ],
      "text/plain": [
       "    Zip_Code Neighborhood\n",
       "223    77590   Texas City\n",
       "224    77591   Texas City"
      ]
     },
     "execution_count": 104,
     "metadata": {},
     "output_type": "execute_result"
    }
   ],
   "source": [
    "houston_cleaned_zips[houston_cleaned_zips['Neighborhood'] == 'Texas City']"
   ]
  },
  {
   "cell_type": "code",
   "execution_count": 105,
   "metadata": {},
   "outputs": [],
   "source": [
    "texas_city_names = ['West Texas City', 'East Texas City']"
   ]
  },
  {
   "cell_type": "code",
   "execution_count": 106,
   "metadata": {},
   "outputs": [
    {
     "data": {
      "text/html": [
       "<div>\n",
       "<style scoped>\n",
       "    .dataframe tbody tr th:only-of-type {\n",
       "        vertical-align: middle;\n",
       "    }\n",
       "\n",
       "    .dataframe tbody tr th {\n",
       "        vertical-align: top;\n",
       "    }\n",
       "\n",
       "    .dataframe thead th {\n",
       "        text-align: right;\n",
       "    }\n",
       "</style>\n",
       "<table border=\"1\" class=\"dataframe\">\n",
       "  <thead>\n",
       "    <tr style=\"text-align: right;\">\n",
       "      <th></th>\n",
       "      <th>Zip_Code</th>\n",
       "      <th>Neighborhood</th>\n",
       "    </tr>\n",
       "  </thead>\n",
       "  <tbody>\n",
       "    <tr>\n",
       "      <th>218</th>\n",
       "      <td>77581</td>\n",
       "      <td>Pearland</td>\n",
       "    </tr>\n",
       "    <tr>\n",
       "      <th>220</th>\n",
       "      <td>77584</td>\n",
       "      <td>Pearland</td>\n",
       "    </tr>\n",
       "  </tbody>\n",
       "</table>\n",
       "</div>"
      ],
      "text/plain": [
       "    Zip_Code Neighborhood\n",
       "218    77581     Pearland\n",
       "220    77584     Pearland"
      ]
     },
     "execution_count": 106,
     "metadata": {},
     "output_type": "execute_result"
    }
   ],
   "source": [
    "houston_cleaned_zips[houston_cleaned_zips['Neighborhood'] == 'Pearland']"
   ]
  },
  {
   "cell_type": "code",
   "execution_count": 107,
   "metadata": {},
   "outputs": [],
   "source": [
    "pearland_names = ['East Pearland', 'West Pearland']"
   ]
  },
  {
   "cell_type": "code",
   "execution_count": 108,
   "metadata": {},
   "outputs": [
    {
     "data": {
      "text/html": [
       "<div>\n",
       "<style scoped>\n",
       "    .dataframe tbody tr th:only-of-type {\n",
       "        vertical-align: middle;\n",
       "    }\n",
       "\n",
       "    .dataframe tbody tr th {\n",
       "        vertical-align: top;\n",
       "    }\n",
       "\n",
       "    .dataframe thead th {\n",
       "        text-align: right;\n",
       "    }\n",
       "</style>\n",
       "<table border=\"1\" class=\"dataframe\">\n",
       "  <thead>\n",
       "    <tr style=\"text-align: right;\">\n",
       "      <th></th>\n",
       "      <th>Zip_Code</th>\n",
       "      <th>Neighborhood</th>\n",
       "    </tr>\n",
       "  </thead>\n",
       "  <tbody>\n",
       "    <tr>\n",
       "      <th>111</th>\n",
       "      <td>77354</td>\n",
       "      <td>Magnolia</td>\n",
       "    </tr>\n",
       "    <tr>\n",
       "      <th>112</th>\n",
       "      <td>77355</td>\n",
       "      <td>Magnolia</td>\n",
       "    </tr>\n",
       "  </tbody>\n",
       "</table>\n",
       "</div>"
      ],
      "text/plain": [
       "    Zip_Code Neighborhood\n",
       "111    77354     Magnolia\n",
       "112    77355     Magnolia"
      ]
     },
     "execution_count": 108,
     "metadata": {},
     "output_type": "execute_result"
    }
   ],
   "source": [
    "houston_cleaned_zips[houston_cleaned_zips['Neighborhood'] == 'Magnolia']"
   ]
  },
  {
   "cell_type": "code",
   "execution_count": 109,
   "metadata": {},
   "outputs": [],
   "source": [
    "magnolia_names = ['East Magnolia', 'West Magnolia']"
   ]
  },
  {
   "cell_type": "code",
   "execution_count": 110,
   "metadata": {},
   "outputs": [
    {
     "data": {
      "text/html": [
       "<div>\n",
       "<style scoped>\n",
       "    .dataframe tbody tr th:only-of-type {\n",
       "        vertical-align: middle;\n",
       "    }\n",
       "\n",
       "    .dataframe tbody tr th {\n",
       "        vertical-align: top;\n",
       "    }\n",
       "\n",
       "    .dataframe thead th {\n",
       "        text-align: right;\n",
       "    }\n",
       "</style>\n",
       "<table border=\"1\" class=\"dataframe\">\n",
       "  <thead>\n",
       "    <tr style=\"text-align: right;\">\n",
       "      <th></th>\n",
       "      <th>Zip_Code</th>\n",
       "      <th>Neighborhood</th>\n",
       "    </tr>\n",
       "  </thead>\n",
       "  <tbody>\n",
       "    <tr>\n",
       "      <th>179</th>\n",
       "      <td>77510</td>\n",
       "      <td>Santa Fe</td>\n",
       "    </tr>\n",
       "    <tr>\n",
       "      <th>183</th>\n",
       "      <td>77517</td>\n",
       "      <td>Santa Fe</td>\n",
       "    </tr>\n",
       "  </tbody>\n",
       "</table>\n",
       "</div>"
      ],
      "text/plain": [
       "    Zip_Code Neighborhood\n",
       "179    77510     Santa Fe\n",
       "183    77517     Santa Fe"
      ]
     },
     "execution_count": 110,
     "metadata": {},
     "output_type": "execute_result"
    }
   ],
   "source": [
    "houston_cleaned_zips[houston_cleaned_zips['Neighborhood'] == 'Santa Fe']"
   ]
  },
  {
   "cell_type": "code",
   "execution_count": 111,
   "metadata": {},
   "outputs": [],
   "source": [
    "santa_fe_names = ['East Santa Fe', 'West Santa Fe']"
   ]
  },
  {
   "cell_type": "code",
   "execution_count": 112,
   "metadata": {},
   "outputs": [
    {
     "data": {
      "text/html": [
       "<div>\n",
       "<style scoped>\n",
       "    .dataframe tbody tr th:only-of-type {\n",
       "        vertical-align: middle;\n",
       "    }\n",
       "\n",
       "    .dataframe tbody tr th {\n",
       "        vertical-align: top;\n",
       "    }\n",
       "\n",
       "    .dataframe thead th {\n",
       "        text-align: right;\n",
       "    }\n",
       "</style>\n",
       "<table border=\"1\" class=\"dataframe\">\n",
       "  <thead>\n",
       "    <tr style=\"text-align: right;\">\n",
       "      <th></th>\n",
       "      <th>Zip_Code</th>\n",
       "      <th>Neighborhood</th>\n",
       "    </tr>\n",
       "  </thead>\n",
       "  <tbody>\n",
       "    <tr>\n",
       "      <th>152</th>\n",
       "      <td>77459</td>\n",
       "      <td>Missouri City</td>\n",
       "    </tr>\n",
       "    <tr>\n",
       "      <th>169</th>\n",
       "      <td>77489</td>\n",
       "      <td>Missouri City</td>\n",
       "    </tr>\n",
       "  </tbody>\n",
       "</table>\n",
       "</div>"
      ],
      "text/plain": [
       "    Zip_Code   Neighborhood\n",
       "152    77459  Missouri City\n",
       "169    77489  Missouri City"
      ]
     },
     "execution_count": 112,
     "metadata": {},
     "output_type": "execute_result"
    }
   ],
   "source": [
    "houston_cleaned_zips[houston_cleaned_zips['Neighborhood'] == 'Missouri City']"
   ]
  },
  {
   "cell_type": "code",
   "execution_count": 113,
   "metadata": {},
   "outputs": [],
   "source": [
    "missouri_city_names = ['Sienna Plantation - Missouri City', 'Missouri City']"
   ]
  },
  {
   "cell_type": "code",
   "execution_count": 114,
   "metadata": {},
   "outputs": [
    {
     "data": {
      "text/html": [
       "<div>\n",
       "<style scoped>\n",
       "    .dataframe tbody tr th:only-of-type {\n",
       "        vertical-align: middle;\n",
       "    }\n",
       "\n",
       "    .dataframe tbody tr th {\n",
       "        vertical-align: top;\n",
       "    }\n",
       "\n",
       "    .dataframe thead th {\n",
       "        text-align: right;\n",
       "    }\n",
       "</style>\n",
       "<table border=\"1\" class=\"dataframe\">\n",
       "  <thead>\n",
       "    <tr style=\"text-align: right;\">\n",
       "      <th></th>\n",
       "      <th>Zip_Code</th>\n",
       "      <th>Neighborhood</th>\n",
       "    </tr>\n",
       "  </thead>\n",
       "  <tbody>\n",
       "    <tr>\n",
       "      <th>121</th>\n",
       "      <td>77375</td>\n",
       "      <td>Tomball</td>\n",
       "    </tr>\n",
       "    <tr>\n",
       "      <th>122</th>\n",
       "      <td>77377</td>\n",
       "      <td>Tomball</td>\n",
       "    </tr>\n",
       "  </tbody>\n",
       "</table>\n",
       "</div>"
      ],
      "text/plain": [
       "    Zip_Code Neighborhood\n",
       "121    77375      Tomball\n",
       "122    77377      Tomball"
      ]
     },
     "execution_count": 114,
     "metadata": {},
     "output_type": "execute_result"
    }
   ],
   "source": [
    "houston_cleaned_zips[houston_cleaned_zips['Neighborhood'] == 'Tomball']"
   ]
  },
  {
   "cell_type": "code",
   "execution_count": 115,
   "metadata": {},
   "outputs": [],
   "source": [
    "tomball_names = ['East Tomball', 'West Tomball']"
   ]
  },
  {
   "cell_type": "code",
   "execution_count": 116,
   "metadata": {},
   "outputs": [
    {
     "data": {
      "text/html": [
       "<div>\n",
       "<style scoped>\n",
       "    .dataframe tbody tr th:only-of-type {\n",
       "        vertical-align: middle;\n",
       "    }\n",
       "\n",
       "    .dataframe tbody tr th {\n",
       "        vertical-align: top;\n",
       "    }\n",
       "\n",
       "    .dataframe thead th {\n",
       "        text-align: right;\n",
       "    }\n",
       "</style>\n",
       "<table border=\"1\" class=\"dataframe\">\n",
       "  <thead>\n",
       "    <tr style=\"text-align: right;\">\n",
       "      <th></th>\n",
       "      <th>Zip_Code</th>\n",
       "      <th>Neighborhood</th>\n",
       "    </tr>\n",
       "  </thead>\n",
       "  <tbody>\n",
       "    <tr>\n",
       "      <th>102</th>\n",
       "      <td>77316</td>\n",
       "      <td>Montgomery</td>\n",
       "    </tr>\n",
       "    <tr>\n",
       "      <th>113</th>\n",
       "      <td>77356</td>\n",
       "      <td>Montgomery</td>\n",
       "    </tr>\n",
       "  </tbody>\n",
       "</table>\n",
       "</div>"
      ],
      "text/plain": [
       "    Zip_Code Neighborhood\n",
       "102    77316   Montgomery\n",
       "113    77356   Montgomery"
      ]
     },
     "execution_count": 116,
     "metadata": {},
     "output_type": "execute_result"
    }
   ],
   "source": [
    "houston_cleaned_zips[houston_cleaned_zips['Neighborhood'] == 'Montgomery']"
   ]
  },
  {
   "cell_type": "code",
   "execution_count": 117,
   "metadata": {},
   "outputs": [],
   "source": [
    "montgomery_names = ['South Montgomery', 'North Montgomery']"
   ]
  },
  {
   "cell_type": "code",
   "execution_count": 118,
   "metadata": {},
   "outputs": [
    {
     "data": {
      "text/html": [
       "<div>\n",
       "<style scoped>\n",
       "    .dataframe tbody tr th:only-of-type {\n",
       "        vertical-align: middle;\n",
       "    }\n",
       "\n",
       "    .dataframe tbody tr th {\n",
       "        vertical-align: top;\n",
       "    }\n",
       "\n",
       "    .dataframe thead th {\n",
       "        text-align: right;\n",
       "    }\n",
       "</style>\n",
       "<table border=\"1\" class=\"dataframe\">\n",
       "  <thead>\n",
       "    <tr style=\"text-align: right;\">\n",
       "      <th></th>\n",
       "      <th>Zip_Code</th>\n",
       "      <th>Neighborhood</th>\n",
       "    </tr>\n",
       "  </thead>\n",
       "  <tbody>\n",
       "    <tr>\n",
       "      <th>103</th>\n",
       "      <td>77318</td>\n",
       "      <td>Willis</td>\n",
       "    </tr>\n",
       "    <tr>\n",
       "      <th>123</th>\n",
       "      <td>77378</td>\n",
       "      <td>Willis</td>\n",
       "    </tr>\n",
       "  </tbody>\n",
       "</table>\n",
       "</div>"
      ],
      "text/plain": [
       "    Zip_Code Neighborhood\n",
       "103    77318       Willis\n",
       "123    77378       Willis"
      ]
     },
     "execution_count": 118,
     "metadata": {},
     "output_type": "execute_result"
    }
   ],
   "source": [
    "houston_cleaned_zips[houston_cleaned_zips['Neighborhood'] == 'Willis']"
   ]
  },
  {
   "cell_type": "code",
   "execution_count": 119,
   "metadata": {},
   "outputs": [],
   "source": [
    "willis_names = ['West Willis', 'East Willis']"
   ]
  },
  {
   "cell_type": "code",
   "execution_count": 120,
   "metadata": {},
   "outputs": [
    {
     "data": {
      "text/html": [
       "<div>\n",
       "<style scoped>\n",
       "    .dataframe tbody tr th:only-of-type {\n",
       "        vertical-align: middle;\n",
       "    }\n",
       "\n",
       "    .dataframe tbody tr th {\n",
       "        vertical-align: top;\n",
       "    }\n",
       "\n",
       "    .dataframe thead th {\n",
       "        text-align: right;\n",
       "    }\n",
       "</style>\n",
       "<table border=\"1\" class=\"dataframe\">\n",
       "  <thead>\n",
       "    <tr style=\"text-align: right;\">\n",
       "      <th></th>\n",
       "      <th>Zip_Code</th>\n",
       "      <th>Neighborhood</th>\n",
       "    </tr>\n",
       "  </thead>\n",
       "  <tbody>\n",
       "    <tr>\n",
       "      <th>141</th>\n",
       "      <td>77429</td>\n",
       "      <td>Cypress</td>\n",
       "    </tr>\n",
       "    <tr>\n",
       "      <th>143</th>\n",
       "      <td>77433</td>\n",
       "      <td>Cypress</td>\n",
       "    </tr>\n",
       "  </tbody>\n",
       "</table>\n",
       "</div>"
      ],
      "text/plain": [
       "    Zip_Code Neighborhood\n",
       "141    77429      Cypress\n",
       "143    77433      Cypress"
      ]
     },
     "execution_count": 120,
     "metadata": {},
     "output_type": "execute_result"
    }
   ],
   "source": [
    "houston_cleaned_zips[houston_cleaned_zips['Neighborhood'] == 'Cypress']"
   ]
  },
  {
   "cell_type": "code",
   "execution_count": 121,
   "metadata": {},
   "outputs": [],
   "source": [
    "cypress_names = ['East Cypress', 'West Cypress']"
   ]
  },
  {
   "cell_type": "code",
   "execution_count": 122,
   "metadata": {},
   "outputs": [
    {
     "data": {
      "text/html": [
       "<div>\n",
       "<style scoped>\n",
       "    .dataframe tbody tr th:only-of-type {\n",
       "        vertical-align: middle;\n",
       "    }\n",
       "\n",
       "    .dataframe tbody tr th {\n",
       "        vertical-align: top;\n",
       "    }\n",
       "\n",
       "    .dataframe thead th {\n",
       "        text-align: right;\n",
       "    }\n",
       "</style>\n",
       "<table border=\"1\" class=\"dataframe\">\n",
       "  <thead>\n",
       "    <tr style=\"text-align: right;\">\n",
       "      <th></th>\n",
       "      <th>Zip_Code</th>\n",
       "      <th>Neighborhood</th>\n",
       "    </tr>\n",
       "  </thead>\n",
       "  <tbody>\n",
       "    <tr>\n",
       "      <th>209</th>\n",
       "      <td>77565</td>\n",
       "      <td>League City</td>\n",
       "    </tr>\n",
       "    <tr>\n",
       "      <th>213</th>\n",
       "      <td>77573</td>\n",
       "      <td>League City</td>\n",
       "    </tr>\n",
       "  </tbody>\n",
       "</table>\n",
       "</div>"
      ],
      "text/plain": [
       "    Zip_Code Neighborhood\n",
       "209    77565  League City\n",
       "213    77573  League City"
      ]
     },
     "execution_count": 122,
     "metadata": {},
     "output_type": "execute_result"
    }
   ],
   "source": [
    "houston_cleaned_zips[houston_cleaned_zips['Neighborhood'] == 'League City']"
   ]
  },
  {
   "cell_type": "code",
   "execution_count": 123,
   "metadata": {},
   "outputs": [],
   "source": [
    "league_city_names = ['Kemah', 'League City']"
   ]
  },
  {
   "cell_type": "code",
   "execution_count": 124,
   "metadata": {},
   "outputs": [
    {
     "data": {
      "text/html": [
       "<div>\n",
       "<style scoped>\n",
       "    .dataframe tbody tr th:only-of-type {\n",
       "        vertical-align: middle;\n",
       "    }\n",
       "\n",
       "    .dataframe tbody tr th {\n",
       "        vertical-align: top;\n",
       "    }\n",
       "\n",
       "    .dataframe thead th {\n",
       "        text-align: right;\n",
       "    }\n",
       "</style>\n",
       "<table border=\"1\" class=\"dataframe\">\n",
       "  <thead>\n",
       "    <tr style=\"text-align: right;\">\n",
       "      <th></th>\n",
       "      <th>Zip_Code</th>\n",
       "      <th>Neighborhood</th>\n",
       "    </tr>\n",
       "  </thead>\n",
       "  <tbody>\n",
       "    <tr>\n",
       "      <th>107</th>\n",
       "      <td>77338</td>\n",
       "      <td>Humble</td>\n",
       "    </tr>\n",
       "    <tr>\n",
       "      <th>133</th>\n",
       "      <td>77396</td>\n",
       "      <td>Humble</td>\n",
       "    </tr>\n",
       "  </tbody>\n",
       "</table>\n",
       "</div>"
      ],
      "text/plain": [
       "    Zip_Code Neighborhood\n",
       "107    77338       Humble\n",
       "133    77396       Humble"
      ]
     },
     "execution_count": 124,
     "metadata": {},
     "output_type": "execute_result"
    }
   ],
   "source": [
    "houston_cleaned_zips[houston_cleaned_zips['Neighborhood'] == 'Humble']"
   ]
  },
  {
   "cell_type": "code",
   "execution_count": 125,
   "metadata": {},
   "outputs": [],
   "source": [
    "humble_names = ['North Humble', 'South Humble']"
   ]
  },
  {
   "cell_type": "code",
   "execution_count": 126,
   "metadata": {},
   "outputs": [],
   "source": [
    "names_lists = [houston_names, conroe_names, pasadena_names, spring_names, katy_names, sugar_land_names, richmond_names, bolivar_names, woodlands_names, baytown_names,\n",
    "              galveston_names, cleveland_names, texas_city_names, pearland_names, magnolia_names, santa_fe_names, missouri_city_names, tomball_names, montgomery_names,\n",
    "              willis_names, cypress_names, league_city_names, humble_names]\n",
    "\n",
    "cities = ['Houston', 'Conroe', 'Pasadena', 'Spring', 'Katy', 'Sugar Land', 'Richmond', 'Bolivar Peninsula', 'The Woodlands', 'Baytown', 'Galveston', 'Cleveland', 'Texas City',\n",
    "         'Pearland', 'Magnolia', 'Santa Fe', 'Missouri City', 'Tomball', 'Montgomery', 'Willis', 'Cypress', 'League City', 'Humble']"
   ]
  },
  {
   "cell_type": "code",
   "execution_count": 127,
   "metadata": {},
   "outputs": [],
   "source": [
    "houston_named_zips = name_zipcodes(houston_cleaned_zips, cities, names_lists)"
   ]
  },
  {
   "cell_type": "code",
   "execution_count": 128,
   "metadata": {},
   "outputs": [],
   "source": [
    "houston_nonresidential_zips = ['77201', '77507']\n",
    "houston_named_zips = houston_named_zips[~houston_named_zips['Zip_Code'].isin(houston_nonresidential_zips)]"
   ]
  },
  {
   "cell_type": "code",
   "execution_count": 129,
   "metadata": {},
   "outputs": [
    {
     "name": "stdout",
     "output_type": "stream",
     "text": [
      "East Santa Fe                                                 False\n",
      "Needville                                                     False\n",
      "Hardin                                                        False\n",
      "Southeast Houston, Southpark                                  False\n",
      "Northeast Conroe                                              False\n",
      "West Texas City                                               False\n",
      "Northeast Spring                                              False\n",
      "Stafford                                                      False\n",
      "Greater OST                                                   False\n",
      "Missouri City                                                 False\n",
      "Weston Lakes                                                  False\n",
      "East Houston                                                  False\n",
      "Mission Bend                                                  False\n",
      "Greater Fifth Ward, Denver Harbor, Port Houston               False\n",
      "Bellville                                                     False\n",
      "Central Baytown                                               False\n",
      "Alief                                                         False\n",
      "North Baytown                                                 False\n",
      "Liberty                                                       False\n",
      "Hull                                                          False\n",
      "Gulfton                                                       False\n",
      "Prairie View                                                  False\n",
      "Eastex, Jenson                                                False\n",
      "Huffman                                                       False\n",
      "South Montgomery                                              False\n",
      "La Marque                                                     False\n",
      "Central Bolivar Peninsula                                     False\n",
      "Devers                                                        False\n",
      "Freeport                                                      False\n",
      "Pattison                                                      False\n",
      "Greenway, Upper Kirby                                         False\n",
      "Kendleton                                                     False\n",
      "Clear Lake Area, Pinebrook, Brookwood                         False\n",
      "Spring Area - The Woodlands                                   False\n",
      "Seabrook                                                      False\n",
      "New Caney                                                     False\n",
      "Industry                                                      False\n",
      "Willowbrook                                                   False\n",
      "Brazoria                                                      False\n",
      "Bleiblerville                                                 False\n",
      "Wallis                                                        False\n",
      "West End - Galveston                                          False\n",
      "Manvel                                                        False\n",
      "Cloverland, South Acres, Crestmont Park                       False\n",
      "Kingwood                                                      False\n",
      "Central Southwest                                             False\n",
      "West University Place                                         False\n",
      "Liverpool                                                     False\n",
      "Hitchcock                                                     False\n",
      "Klein Area - Spring                                           False\n",
      "Fallbrook, Forestwood                                         False\n",
      "Highlands                                                     False\n",
      "Braeswood Place, Willowbend Area                              False\n",
      "East Tomball                                                  False\n",
      "Rosenberg                                                     False\n",
      "Silverglen, Sablechase                                        False\n",
      "Briarforest, Westchase, Walnut Bend                           False\n",
      "Hockley                                                       False\n",
      "Jacinto City                                                  False\n",
      "Windsor Park, Green Trails                                    False\n",
      "Lake Jackson                                                  False\n",
      "West Cypress                                                  False\n",
      "Central Pasadena                                              False\n",
      "Pinehurst                                                     False\n",
      "Chinatown, Sharpstown                                         False\n",
      "Splendora                                                     False\n",
      "East Texas City                                               False\n",
      "Deer Park                                                     False\n",
      "Tanglewood, San Felipe                                        False\n",
      "East Spring                                                   False\n",
      "Champions Point, Glennwood Forest, Kleinbrook                 False\n",
      "North Pasadena                                                False\n",
      "Greater Eastwood, Lawndale, Wayside, Gulfgate, Pine Valley    False\n",
      "East Magnolia                                                 False\n",
      "South Central, Greater Third Ward                             False\n",
      "Greater Hobby Area                                            False\n",
      "Northeast Katy                                                False\n",
      "Spring Branch Central                                         False\n",
      "West Conroe                                                   False\n",
      "Southwest Katy                                                False\n",
      "South Richmond                                                False\n",
      "Beasley                                                       False\n",
      "West Bolivar Peninsula                                        False\n",
      "Brookshire                                                    False\n",
      "Spring Branch North, Spring Branch West                       False\n",
      "Dickinson                                                     False\n",
      "Harvest Bend, North Houston                                   False\n",
      " North Humble                                                 False\n",
      "Guy                                                           False\n",
      "Central Richmond                                              False\n",
      "Meyerland                                                     False\n",
      "Edgebrook                                                     False\n",
      "Harrisburg, Manchester                                        False\n",
      "Northwest Park                                                False\n",
      "East Downtown                                                 False\n",
      "Montrose, Hyde Park                                           False\n",
      "West Columbia                                                 False\n",
      "Daisetta                                                      False\n",
      "Stowell                                                       False\n",
      "Minnetex, South Acres, Crestmont Park                         False\n",
      "Anahuac                                                       False\n",
      "Atascocita                                                    False\n",
      "High Meadows, Fairgreen                                       False\n",
      "Shady Acres, Greater Heights, Lazybrook                       False\n",
      "Northwest Spring                                              False\n",
      "Greater East End, Second ward, Magnolia Park                  False\n",
      "Galena Park                                                   False\n",
      "Westbury, Southeast Houston                                   False\n",
      "Spring Branch East                                            False\n",
      "Webster                                                       False\n",
      "East Willis                                                   False\n",
      "Far East Conroe                                               False\n",
      "Hempstead                                                     False\n",
      "Wortham Park, Tower Oaks                                      False\n",
      "East Cypress                                                  False\n",
      "Boulevard Oaks, Crowne Plaza                                  False\n",
      "East Bolivar Peninsula                                        False\n",
      "Mid-west                                                      False\n",
      "Northwest Sugarland                                           False\n",
      "Summerwood                                                    False\n",
      "Copperfield, Canyon Lakes                                     False\n",
      "Northwest Pasadena                                            False\n",
      "South Humble                                                  False\n",
      "Brays Oaks, Fondren Park                                      False\n",
      "River Oaks, Fourth Ward                                       False\n",
      "Cypress Station                                               False\n",
      "Dayton                                                        False\n",
      "Southeast Katy                                                False\n",
      "East Cleveland                                                False\n",
      "Lakes on Eldridge, Jersey Acres                               False\n",
      "West Pearland                                                 False\n",
      "Greenspoint                                                   False\n",
      "Southwest Spring                                              False\n",
      "North Humble                                                  False\n",
      "Northside, Northline                                          False\n",
      "Danbury                                                       False\n",
      "South Houston                                                 False\n",
      "Briar Forest, Eldridge                                        False\n",
      "Astrodome, South Main                                         False\n",
      "West Magnolia                                                 False\n",
      "River Oaks, Bellaire Junction                                 False\n",
      "Huntington Village, Alief                                     False\n",
      "Brays Oaks, Braeburn Gardens                                  False\n",
      "Meyer Park, Collins Park                                      False\n",
      "Crosby                                                        False\n",
      "Kellys Corner, Quail Bridge, Ridgegate                        False\n",
      "Porter                                                        False\n",
      "Sealy                                                         False\n",
      "Central Northwest                                             False\n",
      "Greenbriar Colony, Aldine Estates                             False\n",
      "New Ulm                                                       False\n",
      "Clear Lake Area, Nassau Bay                                   False\n",
      "Northridge Park, Remington Ranch                              False\n",
      "Meadowbrook, Allendale                                        False\n",
      "Texas Medical Center                                          False\n",
      "Forest Lake, Langwood                                         False\n",
      "League City                                                   False\n",
      "George R Brown                                                False\n",
      "Champions                                                     False\n",
      "Golfcrest, Bellfort, Reveille                                 False\n",
      "Greater Inwood                                                False\n",
      "Southbelt, Ellington                                          False\n",
      "Royal Oaks, Westchase                                         False\n",
      "La Porte                                                      False\n",
      "Angleton                                                      False\n",
      "West Willis                                                   False\n",
      "West Cleveland                                                False\n",
      "East Conroe                                                   False\n",
      "Mont Belvieu                                                  False\n",
      "San Felipe                                                    False\n",
      "Southeast Pasadena                                            False\n",
      "Independence Heights                                          False\n",
      "Bellaire                                                      False\n",
      "North Montgomery                                              False\n",
      "Sunnyside, Brookhaven                                         False\n",
      "Energy Corridor                                               False\n",
      "Alvin                                                         False\n",
      "Southwest Sugar Land                                          False\n",
      "Inwood, Acres Homes                                           False\n",
      "North Woodlands                                               False\n",
      "Southeast Conroe                                              False\n",
      "Heritage Village, Green Oak Park                              False\n",
      "Sienna Plantation - Missouri City                             False\n",
      "Southwest Conroe                                              False\n",
      "Fondren Gardens, Corithian Pointe, Winchester                 False\n",
      "Fresno                                                        False\n",
      "Kashmere Gardens                                              False\n",
      "Romayor                                                       False\n",
      "Sweeny                                                        False\n",
      "South Pasadena                                                False\n",
      "Memorial Villages, Briargrove Park                            False\n",
      "East Woodlands - Conroe                                       False\n",
      "Cloverleaf                                                    False\n",
      "Trinity, Houston Gardens, Settegast                           False\n",
      "Addicks, Park Ten                                             False\n",
      "East Pearland                                                 False\n",
      "Rosharon                                                      False\n",
      "Noorthwest Katy                                               False\n",
      "Cat Spring                                                    False\n",
      "Houston Farms, Sheldon Park                                   False\n",
      "Waller                                                        False\n",
      "Rye                                                           False\n",
      "Shadowlake Estates, Forest Acres                              False\n",
      "Thompsons                                                     False\n",
      "Northside Village, Woodland Heights                           False\n",
      "Northeast Sugar Land                                          False\n",
      "West Oaks, Uptown                                             False\n",
      "Clute                                                         False\n",
      "West Tomball                                                  False\n",
      "East Little York, Homestead                                   False\n",
      "Downtown, Midtown                                             False\n",
      "Northeast Richmond                                            False\n",
      "Hobby, Glenbrook Valley                                       False\n",
      "Friendswood                                                   False\n",
      "East End - Galveston                                          False\n",
      "East Baytown                                                  False\n",
      "Clear Lake Area, Bay Knoll                                    False\n",
      "Braeburn, Braes Timbers, Robindell                            False\n",
      "West Santa Fe                                                 False\n",
      "Wallisville                                                   False\n",
      "North Shore                                                   False\n",
      "Aldine                                                        False\n",
      "Simonton                                                      False\n",
      "Rice Military, Memorial Park                                  False\n",
      "Bacliff                                                       False\n",
      "Hankamer                                                      False\n",
      "Damon                                                         False\n",
      "Sea Wall - Galveston                                          False\n",
      "South Woodlands                                               False\n",
      "Orchard                                                       False\n",
      "Kemah                                                         False\n",
      "Winnie                                                        False\n",
      "Fairbanks, Northwest Crossing                                 False\n",
      "Channelview                                                   False\n",
      "Name: Neighborhood, dtype: bool\n"
     ]
    }
   ],
   "source": [
    "print(houston_named_zips['Neighborhood'].value_counts() > 1)"
   ]
  },
  {
   "cell_type": "code",
   "execution_count": 130,
   "metadata": {},
   "outputs": [],
   "source": [
    "houston_named_zips.to_csv('./Data/houston_cleaned_zipcodes.csv', index = False)"
   ]
  },
  {
   "cell_type": "code",
   "execution_count": null,
   "metadata": {},
   "outputs": [],
   "source": []
  },
  {
   "cell_type": "code",
   "execution_count": null,
   "metadata": {},
   "outputs": [],
   "source": []
  },
  {
   "cell_type": "code",
   "execution_count": null,
   "metadata": {},
   "outputs": [],
   "source": []
  },
  {
   "cell_type": "code",
   "execution_count": null,
   "metadata": {},
   "outputs": [],
   "source": []
  },
  {
   "cell_type": "code",
   "execution_count": null,
   "metadata": {},
   "outputs": [],
   "source": []
  },
  {
   "cell_type": "code",
   "execution_count": null,
   "metadata": {},
   "outputs": [],
   "source": []
  },
  {
   "cell_type": "code",
   "execution_count": null,
   "metadata": {},
   "outputs": [],
   "source": []
  }
 ],
 "metadata": {
  "kernelspec": {
   "display_name": "Python 3",
   "language": "python",
   "name": "python3"
  },
  "language_info": {
   "codemirror_mode": {
    "name": "ipython",
    "version": 3
   },
   "file_extension": ".py",
   "mimetype": "text/x-python",
   "name": "python",
   "nbconvert_exporter": "python",
   "pygments_lexer": "ipython3",
   "version": "3.7.3"
  }
 },
 "nbformat": 4,
 "nbformat_minor": 4
}
