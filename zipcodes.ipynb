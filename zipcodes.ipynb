{
 "cells": [
  {
   "cell_type": "code",
   "execution_count": 1,
   "metadata": {},
   "outputs": [],
   "source": [
    "import pandas as pd\n",
    "pd.set_option('mode.chained_assignment', None)"
   ]
  },
  {
   "cell_type": "code",
   "execution_count": 2,
   "metadata": {},
   "outputs": [],
   "source": [
    "dfw_zipcodes = pd.read_csv('./Data/DFW_zip_codes.csv', header = None, names = ['Zip_Code'])\n",
    "houston_zipcodes = pd.read_csv('./Data/Greater_Houston_zip_codes.csv', header = None, names = ['Zip_Code'])"
   ]
  },
  {
   "cell_type": "code",
   "execution_count": 14,
   "metadata": {},
   "outputs": [
    {
     "data": {
      "text/html": [
       "<div>\n",
       "<style scoped>\n",
       "    .dataframe tbody tr th:only-of-type {\n",
       "        vertical-align: middle;\n",
       "    }\n",
       "\n",
       "    .dataframe tbody tr th {\n",
       "        vertical-align: top;\n",
       "    }\n",
       "\n",
       "    .dataframe thead th {\n",
       "        text-align: right;\n",
       "    }\n",
       "</style>\n",
       "<table border=\"1\" class=\"dataframe\">\n",
       "  <thead>\n",
       "    <tr style=\"text-align: right;\">\n",
       "      <th></th>\n",
       "      <th>Zip_Code</th>\n",
       "      <th>Name</th>\n",
       "    </tr>\n",
       "  </thead>\n",
       "  <tbody>\n",
       "    <tr>\n",
       "      <th>0</th>\n",
       "      <td>75001</td>\n",
       "      <td>Addison</td>\n",
       "    </tr>\n",
       "    <tr>\n",
       "      <th>1</th>\n",
       "      <td>75002</td>\n",
       "      <td>Allen</td>\n",
       "    </tr>\n",
       "    <tr>\n",
       "      <th>2</th>\n",
       "      <td>75006</td>\n",
       "      <td>Carrollton</td>\n",
       "    </tr>\n",
       "    <tr>\n",
       "      <th>3</th>\n",
       "      <td>75007</td>\n",
       "      <td>Carrollton</td>\n",
       "    </tr>\n",
       "    <tr>\n",
       "      <th>4</th>\n",
       "      <td>75009</td>\n",
       "      <td>Celina</td>\n",
       "    </tr>\n",
       "  </tbody>\n",
       "</table>\n",
       "</div>"
      ],
      "text/plain": [
       "  Zip_Code        Name\n",
       "0    75001     Addison\n",
       "1    75002       Allen\n",
       "2    75006  Carrollton\n",
       "3    75007  Carrollton\n",
       "4    75009      Celina"
      ]
     },
     "execution_count": 14,
     "metadata": {},
     "output_type": "execute_result"
    }
   ],
   "source": [
    "dfw_zipcodes.head()"
   ]
  },
  {
   "cell_type": "code",
   "execution_count": 4,
   "metadata": {},
   "outputs": [
    {
     "data": {
      "text/html": [
       "<div>\n",
       "<style scoped>\n",
       "    .dataframe tbody tr th:only-of-type {\n",
       "        vertical-align: middle;\n",
       "    }\n",
       "\n",
       "    .dataframe tbody tr th {\n",
       "        vertical-align: top;\n",
       "    }\n",
       "\n",
       "    .dataframe thead th {\n",
       "        text-align: right;\n",
       "    }\n",
       "</style>\n",
       "<table border=\"1\" class=\"dataframe\">\n",
       "  <thead>\n",
       "    <tr style=\"text-align: right;\">\n",
       "      <th></th>\n",
       "      <th>Zip_Code</th>\n",
       "    </tr>\n",
       "  </thead>\n",
       "  <tbody>\n",
       "    <tr>\n",
       "      <th>0</th>\n",
       "      <td>77002 (Houston)</td>\n",
       "    </tr>\n",
       "    <tr>\n",
       "      <th>1</th>\n",
       "      <td>77003 (Houston)</td>\n",
       "    </tr>\n",
       "    <tr>\n",
       "      <th>2</th>\n",
       "      <td>77004 (Houston)</td>\n",
       "    </tr>\n",
       "    <tr>\n",
       "      <th>3</th>\n",
       "      <td>77005 (West University Place)</td>\n",
       "    </tr>\n",
       "    <tr>\n",
       "      <th>4</th>\n",
       "      <td>77006 (Houston)</td>\n",
       "    </tr>\n",
       "  </tbody>\n",
       "</table>\n",
       "</div>"
      ],
      "text/plain": [
       "                        Zip_Code\n",
       "0                77002 (Houston)\n",
       "1                77003 (Houston)\n",
       "2                77004 (Houston)\n",
       "3  77005 (West University Place)\n",
       "4                77006 (Houston)"
      ]
     },
     "execution_count": 4,
     "metadata": {},
     "output_type": "execute_result"
    }
   ],
   "source": [
    "houston_zipcodes.head()"
   ]
  },
  {
   "cell_type": "code",
   "execution_count": 5,
   "metadata": {},
   "outputs": [],
   "source": [
    "def clean_and_name_zipcodes(zipcode_df, names, city):\n",
    "    column_split = zipcode_df['Zip_Code'].str.split(\" \", n = 1, expand = True)\n",
    "    zipcode_df['Zip_Code'] = column_split[0]\n",
    "    zipcode_df['Name'] = column_split[1]\n",
    "    zipcode_df['Name'] = zipcode_df['Name'].str.replace('(', '')\n",
    "    zipcode_df['Name'] = zipcode_df['Name'].str.replace(')', '')\n",
    "    no_name = zipcode_df[zipcode_df['Name'] == city]\n",
    "    no_name['Name'] = names\n",
    "    zipcode_df.update(no_name)\n",
    "    return zipcode_df\n",
    "    "
   ]
  },
  {
   "cell_type": "code",
   "execution_count": 6,
   "metadata": {},
   "outputs": [],
   "source": [
    "dallas_names = ['Downtown', 'Historic District', 'Cadillac Heights', 'City Place, Uptown', 'Lower Greenville', 'West_of_Downtown', 'Bishop Arts', 'Bluffview, Greenway Parks', \n",
    "        'South Dallas', 'Cockrell Hill', 'West Dallas', 'Northeast Dallas, Lakewood', 'Cedars, South Blvd, Park Row, Wheatley Place', 'Cedar Crest', 'Pleasant Grove', \n",
    "        'Casa Linda, Lockwood', 'Turtle Creek, Oaklawn', 'Northwest Dallas', 'Owenwood, Dolphin Heights', 'Wynnewood, Elmwood, Five Mile Creek', 'Deep Ellum',\n",
    "        'Riverway Estates, Bruton Terrace', 'Casa View, Eastwood Hills', 'Loryland', 'North Dallas', 'Vickory Meadow', 'Wolf Creek', 'Westwood Park', 'Love Field',\n",
    "        'West Redbird', 'East Redbird', 'Lake Highlands, Highland Meadows', 'Galleria', 'South Dallas', 'Woodbridge, Forest Meadow, Northwood Heights', 'North Branch',\n",
    "        'Old East', 'West Dallas', 'Far North Dallas', 'Cedar Ridge', 'Park Central', 'Preston Villa', 'Kleberg', 'White Rock Creek', 'Downtown', 'Rollingwood']"
   ]
  },
  {
   "cell_type": "code",
   "execution_count": 7,
   "metadata": {},
   "outputs": [],
   "source": [
    "houston_names = ['Downtown, Midtown', 'East Downtown', 'South Central, Greater Third Ward', 'Montrose, Hyde Park', 'Rice Military, Memorial Park', 'Shady Acres, Greater Heights, Lazybrook',\n",
    "            'Northside Village, Woodland Heights', 'George R Brown', 'Greater East End, Second ward, Magnolia Park', 'Harrisburg, Manchester', 'North Shore', 'Silverglen, Sablechase',\n",
    "            'East Little York, Homestead', 'Meadowbrook, Allendale', 'Central Northwest', 'River Oaks, Fourth Ward', 'Greater Fifth Ward, Denver Harbor, Port Houston', 'Greater OST',\n",
    "            'Independence Heights', 'Greater Eastwood, Lawndale, Wayside, Gulfgate, Pine Valley', 'Memorial Villages, Briargrove Park', 'Braeswood Place, Willowbend Area', 'Kashmere Gardens',\n",
    "            'River Oaks, Bellaire Junction', 'Trinity, Houston Gardens, Settegast', 'Texas Medical Center', 'Brays Oaks, Braeburn Gardens', 'Greenbriar Colony, Aldine Estates', \n",
    "            'Southeast Houston, Southpark', 'Edgebrook', 'Westbury, Southeast Houston', 'Chinatown, Sharpstown', 'Aldine', 'Fallbrook, Forestwood', 'High Meadows, Fairgreen', \n",
    "            'Fairbanks, Northwest Crossing', 'Lakes on Eldridge, Jersey Acres', 'Briarforest, Westchase, Walnut Bend', 'Spring Branch North, Spring Branch West', 'Summerwood',\n",
    "            'Central Southwest', 'Greenway, Upper Kirby', 'Cloverland, South Acres, Crestmont Park', 'Minnetex, South Acres, Crestmont Park', 'Houston Farms, Sheldon Park',\n",
    "            'Shadowlake Estates, Forest Acres', 'Sunnyside, Brookhaven', 'Kellys Corner, Quail Bridge, Ridgegate', 'Astrodome, South Main', 'Spring Branch East', 'West Oaks, Uptown',\n",
    "            'Tanglewood, San Felipe', 'Clear Lake Area, Nassau Bay', 'Clear Lake Area, Pinebrook, Brookwood', 'Greenspoint', 'Hobby, Glenbrook Valley', 'Clear Lake Area, Bay Knoll',\n",
    "            'Mid-west', 'Harvest Bend, North Houston', 'Wortham Park, Tower Oaks', 'Champions Point, Glennwood Forest, Kleinbrook', 'Heritage Village, Green Oak Park', 'Meyer Park, Collins Park',\n",
    "            'Champions', 'Willowbrook', 'Brays Oaks, Fondren Park', 'Alief', 'Northridge Park, Remington Ranch', 'Braeburn, Braes Timbers, Robindell', 'Greater Hobby Area', 'Northside, Northline',\n",
    "            'Briar Forest, Eldridge', 'East Houston', 'Energy Corridor', 'Spring Branch Central', 'Gulfton', 'Royal Oaks, Westchase', 'Addicks, Park Ten', 'Fondren Gardens, Corithian Pointe, Winchester',\n",
    "            'Northwest Park', 'Golfcrest, Bellfort, Reveille', 'Inwood, Acres Homes', 'Southbelt, Ellington', 'Cypress Station', 'Greater Inwood', 'Forest Lake, Langwood', 'Eastex, Jenson',\n",
    "            'Windsor Park, Green Trails', 'Copperfield, Canyon Lakes', 'Meyerland', 'Boulevard Oaks, Crowne Plaza', 'Huntington Village, Alief', 'Post Houston', 'Humble', 'Kingwood',\n",
    "            'Webster']"
   ]
  },
  {
   "cell_type": "code",
   "execution_count": 8,
   "metadata": {},
   "outputs": [],
   "source": [
    "dfw_cleaned_zipcodes = clean_and_name_zipcodes(dfw_zipcodes, dallas_names, 'Dallas')"
   ]
  },
  {
   "cell_type": "code",
   "execution_count": 9,
   "metadata": {},
   "outputs": [],
   "source": [
    "houston_cleaned_zipcodes = clean_and_name_zipcodes(houston_zipcodes, houston_names, 'Houston')"
   ]
  },
  {
   "cell_type": "code",
   "execution_count": 10,
   "metadata": {},
   "outputs": [
    {
     "data": {
      "text/html": [
       "<div>\n",
       "<style scoped>\n",
       "    .dataframe tbody tr th:only-of-type {\n",
       "        vertical-align: middle;\n",
       "    }\n",
       "\n",
       "    .dataframe tbody tr th {\n",
       "        vertical-align: top;\n",
       "    }\n",
       "\n",
       "    .dataframe thead th {\n",
       "        text-align: right;\n",
       "    }\n",
       "</style>\n",
       "<table border=\"1\" class=\"dataframe\">\n",
       "  <thead>\n",
       "    <tr style=\"text-align: right;\">\n",
       "      <th></th>\n",
       "      <th>Zip_Code</th>\n",
       "      <th>Name</th>\n",
       "    </tr>\n",
       "  </thead>\n",
       "  <tbody>\n",
       "    <tr>\n",
       "      <th>0</th>\n",
       "      <td>75001</td>\n",
       "      <td>Addison</td>\n",
       "    </tr>\n",
       "    <tr>\n",
       "      <th>1</th>\n",
       "      <td>75002</td>\n",
       "      <td>Allen</td>\n",
       "    </tr>\n",
       "    <tr>\n",
       "      <th>2</th>\n",
       "      <td>75006</td>\n",
       "      <td>Carrollton</td>\n",
       "    </tr>\n",
       "    <tr>\n",
       "      <th>3</th>\n",
       "      <td>75007</td>\n",
       "      <td>Carrollton</td>\n",
       "    </tr>\n",
       "    <tr>\n",
       "      <th>4</th>\n",
       "      <td>75009</td>\n",
       "      <td>Celina</td>\n",
       "    </tr>\n",
       "  </tbody>\n",
       "</table>\n",
       "</div>"
      ],
      "text/plain": [
       "  Zip_Code        Name\n",
       "0    75001     Addison\n",
       "1    75002       Allen\n",
       "2    75006  Carrollton\n",
       "3    75007  Carrollton\n",
       "4    75009      Celina"
      ]
     },
     "execution_count": 10,
     "metadata": {},
     "output_type": "execute_result"
    }
   ],
   "source": [
    "dfw_cleaned_zipcodes.head()"
   ]
  },
  {
   "cell_type": "code",
   "execution_count": 11,
   "metadata": {},
   "outputs": [
    {
     "data": {
      "text/html": [
       "<div>\n",
       "<style scoped>\n",
       "    .dataframe tbody tr th:only-of-type {\n",
       "        vertical-align: middle;\n",
       "    }\n",
       "\n",
       "    .dataframe tbody tr th {\n",
       "        vertical-align: top;\n",
       "    }\n",
       "\n",
       "    .dataframe thead th {\n",
       "        text-align: right;\n",
       "    }\n",
       "</style>\n",
       "<table border=\"1\" class=\"dataframe\">\n",
       "  <thead>\n",
       "    <tr style=\"text-align: right;\">\n",
       "      <th></th>\n",
       "      <th>Zip_Code</th>\n",
       "      <th>Name</th>\n",
       "    </tr>\n",
       "  </thead>\n",
       "  <tbody>\n",
       "    <tr>\n",
       "      <th>0</th>\n",
       "      <td>77002</td>\n",
       "      <td>Downtown, Midtown</td>\n",
       "    </tr>\n",
       "    <tr>\n",
       "      <th>1</th>\n",
       "      <td>77003</td>\n",
       "      <td>East Downtown</td>\n",
       "    </tr>\n",
       "    <tr>\n",
       "      <th>2</th>\n",
       "      <td>77004</td>\n",
       "      <td>South Central, Greater Third Ward</td>\n",
       "    </tr>\n",
       "    <tr>\n",
       "      <th>3</th>\n",
       "      <td>77005</td>\n",
       "      <td>West University Place</td>\n",
       "    </tr>\n",
       "    <tr>\n",
       "      <th>4</th>\n",
       "      <td>77006</td>\n",
       "      <td>Montrose, Hyde Park</td>\n",
       "    </tr>\n",
       "  </tbody>\n",
       "</table>\n",
       "</div>"
      ],
      "text/plain": [
       "  Zip_Code                               Name\n",
       "0    77002                  Downtown, Midtown\n",
       "1    77003                      East Downtown\n",
       "2    77004  South Central, Greater Third Ward\n",
       "3    77005              West University Place\n",
       "4    77006                Montrose, Hyde Park"
      ]
     },
     "execution_count": 11,
     "metadata": {},
     "output_type": "execute_result"
    }
   ],
   "source": [
    "houston_cleaned_zipcodes.head()"
   ]
  },
  {
   "cell_type": "code",
   "execution_count": 27,
   "metadata": {},
   "outputs": [],
   "source": [
    "dfw_nonresidential_zips = ['75390']\n",
    "dfw_cleaned_zipcodes = dfw_cleaned_zipcodes[~dfw_cleaned_zipcodes['Zip_Code'].isin(dfw_nonresidential_zips)]"
   ]
  },
  {
   "cell_type": "code",
   "execution_count": 28,
   "metadata": {},
   "outputs": [],
   "source": [
    "dfw_cleaned_zipcodes.to_csv('./Data/dfw_cleaned_zipcodes.csv', index = False)"
   ]
  },
  {
   "cell_type": "code",
   "execution_count": 35,
   "metadata": {},
   "outputs": [],
   "source": [
    "houston_nonresidential_zips = ['77201', '77507']\n",
    "houston_cleaned_zipcodes = houston_cleaned_zipcodes[~houston_cleaned_zipcodes['Zip_Code'].isin(houston_nonresidential_zips)]"
   ]
  },
  {
   "cell_type": "code",
   "execution_count": 36,
   "metadata": {},
   "outputs": [],
   "source": [
    "houston_cleaned_zipcodes.to_csv('./Data/houston_cleaned_zipcodes.csv', index = False)"
   ]
  },
  {
   "cell_type": "code",
   "execution_count": null,
   "metadata": {},
   "outputs": [],
   "source": []
  }
 ],
 "metadata": {
  "kernelspec": {
   "display_name": "Python 3",
   "language": "python",
   "name": "python3"
  },
  "language_info": {
   "codemirror_mode": {
    "name": "ipython",
    "version": 3
   },
   "file_extension": ".py",
   "mimetype": "text/x-python",
   "name": "python",
   "nbconvert_exporter": "python",
   "pygments_lexer": "ipython3",
   "version": "3.7.3"
  }
 },
 "nbformat": 4,
 "nbformat_minor": 4
}
