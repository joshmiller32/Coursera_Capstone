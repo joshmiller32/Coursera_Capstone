{
 "cells": [
  {
   "cell_type": "code",
   "execution_count": 97,
   "metadata": {},
   "outputs": [],
   "source": [
    "import pandas as pd\n",
    "from uszipcode import SearchEngine\n",
    "import numpy as np"
   ]
  },
  {
   "cell_type": "code",
   "execution_count": 2,
   "metadata": {},
   "outputs": [],
   "source": [
    "full_zipcode_db = SearchEngine(simple_zipcode = False)"
   ]
  },
  {
   "cell_type": "code",
   "execution_count": 113,
   "metadata": {},
   "outputs": [],
   "source": [
    "zipcode_demographics = full_zipcode_db.by_zipcode('75270')"
   ]
  },
  {
   "cell_type": "code",
   "execution_count": 114,
   "metadata": {},
   "outputs": [],
   "source": [
    "zipcode_demographics = zipcode_demographics.to_dict()"
   ]
  },
  {
   "cell_type": "code",
   "execution_count": 115,
   "metadata": {},
   "outputs": [
    {
     "data": {
      "text/plain": [
       "{'zipcode_type': 'Standard',\n",
       " 'major_city': 'Dallas',\n",
       " 'post_office_city': 'Dallas, TX',\n",
       " 'common_city_list': ['Dallas'],\n",
       " 'county': 'Dallas County',\n",
       " 'state': 'TX',\n",
       " 'lat': 32.7813,\n",
       " 'lng': -96.8017,\n",
       " 'timezone': 'Central',\n",
       " 'radius_in_miles': 0.056818181818181816,\n",
       " 'area_code_list': ['214', '469', '972'],\n",
       " 'population': 0,\n",
       " 'population_density': None,\n",
       " 'land_area_in_sqmi': 0.0,\n",
       " 'water_area_in_sqmi': 0.0,\n",
       " 'housing_units': 0,\n",
       " 'occupied_housing_units': 0,\n",
       " 'median_home_value': None,\n",
       " 'median_household_income': None,\n",
       " 'bounds_west': -96.803271,\n",
       " 'bounds_east': -96.801192,\n",
       " 'bounds_north': 32.781746,\n",
       " 'bounds_south': 32.780648,\n",
       " 'zipcode': '75270',\n",
       " 'polygon': [[-96.802646, 32.781506],\n",
       "  [-96.801487, 32.781746],\n",
       "  [-96.801332, 32.781484],\n",
       "  [-96.801192, 32.781013],\n",
       "  [-96.801519, 32.780952],\n",
       "  [-96.801625, 32.780924],\n",
       "  [-96.802207, 32.780822],\n",
       "  [-96.802424, 32.780776],\n",
       "  [-96.802951, 32.780672],\n",
       "  [-96.803049, 32.780648],\n",
       "  [-96.803271, 32.781337],\n",
       "  [-96.802646, 32.781506]],\n",
       " 'population_by_year': [{'key': 'Data',\n",
       "   'values': [{'x': 2005, 'y': 42},\n",
       "    {'x': 2006, 'y': 45},\n",
       "    {'x': 2007, 'y': 23}]}],\n",
       " 'population_by_age': None,\n",
       " 'population_by_gender': None,\n",
       " 'population_by_race': None,\n",
       " 'head_of_household_by_age': None,\n",
       " 'families_vs_singles': None,\n",
       " 'households_with_kids': None,\n",
       " 'children_by_age': None,\n",
       " 'housing_type': None,\n",
       " 'year_housing_was_built': None,\n",
       " 'housing_occupancy': None,\n",
       " 'vancancy_reason': None,\n",
       " 'owner_occupied_home_values': None,\n",
       " 'rental_properties_by_number_of_rooms': None,\n",
       " 'monthly_rent_including_utilities_studio_apt': None,\n",
       " 'monthly_rent_including_utilities_1_b': None,\n",
       " 'monthly_rent_including_utilities_2_b': None,\n",
       " 'monthly_rent_including_utilities_3plus_b': None,\n",
       " 'employment_status': None,\n",
       " 'average_household_income_over_time': [{'key': 'Data',\n",
       "   'values': [{'x': 2005, 'y': 1212181.8182},\n",
       "    {'x': 2006, 'y': 676681.8182},\n",
       "    {'x': 2007, 'y': 804884.25}]}],\n",
       " 'household_income': None,\n",
       " 'annual_individual_earnings': None,\n",
       " 'sources_of_household_income____percent_of_households_receiving_income': None,\n",
       " 'sources_of_household_income____average_income_per_household_by_income_source': None,\n",
       " 'household_investment_income____percent_of_households_receiving_investment_income': None,\n",
       " 'household_investment_income____average_income_per_household_by_income_source': None,\n",
       " 'household_retirement_income____percent_of_households_receiving_retirement_incom': None,\n",
       " 'household_retirement_income____average_income_per_household_by_income_source': None,\n",
       " 'source_of_earnings': None,\n",
       " 'means_of_transportation_to_work_for_workers_16_and_over': None,\n",
       " 'travel_time_to_work_in_minutes': None,\n",
       " 'educational_attainment_for_population_25_and_over': None,\n",
       " 'school_enrollment_age_3_to_17': None}"
      ]
     },
     "execution_count": 115,
     "metadata": {},
     "output_type": "execute_result"
    }
   ],
   "source": [
    "zipcode_demographics"
   ]
  },
  {
   "cell_type": "code",
   "execution_count": 106,
   "metadata": {},
   "outputs": [],
   "source": [
    "keys = ['zipcode', 'lat', 'lng', 'population', 'median_household_income', 'median_home_value']\n"
   ]
  },
  {
   "cell_type": "code",
   "execution_count": 81,
   "metadata": {},
   "outputs": [],
   "source": [
    "demo_list = [zipcode_demographics.get(key) for key in keys]"
   ]
  },
  {
   "cell_type": "code",
   "execution_count": 82,
   "metadata": {},
   "outputs": [
    {
     "data": {
      "text/plain": [
       "['77598', 29.55, -95.14, 23059, 46682, 117100]"
      ]
     },
     "execution_count": 82,
     "metadata": {},
     "output_type": "execute_result"
    }
   ],
   "source": [
    "demo_list"
   ]
  },
  {
   "cell_type": "code",
   "execution_count": 83,
   "metadata": {},
   "outputs": [],
   "source": [
    "education_column_names = [\"Less Than High School\", \"High School Graduate\", \"Associate's Degree\", \"Bachelor's Degree\", \"Master's Degree\", \"Professional Degree\", \"Doctorate Degree\"]"
   ]
  },
  {
   "cell_type": "code",
   "execution_count": 84,
   "metadata": {},
   "outputs": [],
   "source": [
    "education_values = [zipcode_demographics['educational_attainment_for_population_25_and_over'][0]['values'][i]['y'] for i in range(len(education_column_names))]"
   ]
  },
  {
   "cell_type": "code",
   "execution_count": 85,
   "metadata": {},
   "outputs": [
    {
     "data": {
      "text/plain": [
       "[1791, 7676, 1439, 2582, 636, 143, 82]"
      ]
     },
     "execution_count": 85,
     "metadata": {},
     "output_type": "execute_result"
    }
   ],
   "source": [
    "education_values"
   ]
  },
  {
   "cell_type": "code",
   "execution_count": 86,
   "metadata": {},
   "outputs": [],
   "source": [
    "demo_list = demo_list + education_values"
   ]
  },
  {
   "cell_type": "code",
   "execution_count": 105,
   "metadata": {},
   "outputs": [],
   "source": [
    "demo_list = np.array(demo_list).reshape(1,13)"
   ]
  },
  {
   "cell_type": "code",
   "execution_count": 107,
   "metadata": {},
   "outputs": [],
   "source": [
    "keys = keys + education_column_names"
   ]
  },
  {
   "cell_type": "code",
   "execution_count": null,
   "metadata": {},
   "outputs": [],
   "source": []
  },
  {
   "cell_type": "code",
   "execution_count": 108,
   "metadata": {},
   "outputs": [],
   "source": [
    "final_df = pd.DataFrame(demo_list, columns = keys)"
   ]
  },
  {
   "cell_type": "code",
   "execution_count": 109,
   "metadata": {},
   "outputs": [
    {
     "data": {
      "text/html": [
       "<div>\n",
       "<style scoped>\n",
       "    .dataframe tbody tr th:only-of-type {\n",
       "        vertical-align: middle;\n",
       "    }\n",
       "\n",
       "    .dataframe tbody tr th {\n",
       "        vertical-align: top;\n",
       "    }\n",
       "\n",
       "    .dataframe thead th {\n",
       "        text-align: right;\n",
       "    }\n",
       "</style>\n",
       "<table border=\"1\" class=\"dataframe\">\n",
       "  <thead>\n",
       "    <tr style=\"text-align: right;\">\n",
       "      <th></th>\n",
       "      <th>zipcode</th>\n",
       "      <th>lat</th>\n",
       "      <th>lng</th>\n",
       "      <th>population</th>\n",
       "      <th>median_household_income</th>\n",
       "      <th>median_home_value</th>\n",
       "      <th>Less Than High School</th>\n",
       "      <th>High School Graduate</th>\n",
       "      <th>Associate's Degree</th>\n",
       "      <th>Bachelor's Degree</th>\n",
       "      <th>Master's Degree</th>\n",
       "      <th>Professional Degree</th>\n",
       "      <th>Doctorate Degree</th>\n",
       "    </tr>\n",
       "  </thead>\n",
       "  <tbody>\n",
       "    <tr>\n",
       "      <th>0</th>\n",
       "      <td>77598</td>\n",
       "      <td>29.55</td>\n",
       "      <td>-95.14</td>\n",
       "      <td>23059</td>\n",
       "      <td>46682</td>\n",
       "      <td>117100</td>\n",
       "      <td>1791</td>\n",
       "      <td>7676</td>\n",
       "      <td>1439</td>\n",
       "      <td>2582</td>\n",
       "      <td>636</td>\n",
       "      <td>143</td>\n",
       "      <td>82</td>\n",
       "    </tr>\n",
       "  </tbody>\n",
       "</table>\n",
       "</div>"
      ],
      "text/plain": [
       "  zipcode    lat     lng population median_household_income median_home_value  \\\n",
       "0   77598  29.55  -95.14      23059                   46682            117100   \n",
       "\n",
       "  Less Than High School High School Graduate Associate's Degree  \\\n",
       "0                  1791                 7676               1439   \n",
       "\n",
       "  Bachelor's Degree Master's Degree Professional Degree Doctorate Degree  \n",
       "0              2582             636                 143               82  "
      ]
     },
     "execution_count": 109,
     "metadata": {},
     "output_type": "execute_result"
    }
   ],
   "source": [
    "final_df"
   ]
  },
  {
   "cell_type": "code",
   "execution_count": null,
   "metadata": {},
   "outputs": [],
   "source": []
  }
 ],
 "metadata": {
  "kernelspec": {
   "display_name": "Python 3",
   "language": "python",
   "name": "python3"
  },
  "language_info": {
   "codemirror_mode": {
    "name": "ipython",
    "version": 3
   },
   "file_extension": ".py",
   "mimetype": "text/x-python",
   "name": "python",
   "nbconvert_exporter": "python",
   "pygments_lexer": "ipython3",
   "version": "3.7.3"
  }
 },
 "nbformat": 4,
 "nbformat_minor": 4
}
